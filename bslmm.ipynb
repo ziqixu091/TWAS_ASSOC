{
 "cells": [
  {
   "cell_type": "code",
   "execution_count": 2,
   "metadata": {},
   "outputs": [],
   "source": [
    "import subprocess\n",
    "import pandas as pd\n",
    "import numpy as np\n",
    "import random\n",
    "from helper_fns import *\n",
    "\n",
    "random.seed(42)"
   ]
  },
  {
   "cell_type": "code",
   "execution_count": 3,
   "metadata": {},
   "outputs": [
    {
     "name": "stdout",
     "output_type": "stream",
     "text": [
      "Shapes of the dataframes: (373, 13942) (89, 13942) (13942, 5) (13942, 5)\n"
     ]
    }
   ],
   "source": [
    "EUR_ge_regressed, YRI_ge_regressed, EUR_protein_genes, YRI_protein_genes = load_data()"
   ]
  },
  {
   "cell_type": "code",
   "execution_count": 22,
   "metadata": {},
   "outputs": [],
   "source": [
    "# Function to extract SNPs for a gene and split into train/test\n",
    "def process_gene(gene, chr, start, end, full_y_df=EUR_ge_regressed, ancestry='EUR', plink_path='/new-stg/home/banghua/anaconda3/envs/CSE_284/bin/plink'):\n",
    "    # base_name = f'{gene}_chr{chr}_{start}_{end}'\n",
    "    if not os.path.exists(f'/new-stg/home/banghua/TWAS_ASSOC/project_data/geno_gene_specific/{ancestry}/{gene}'):\n",
    "        os.makedirs(f'/new-stg/home/banghua/TWAS_ASSOC/project_data/geno_gene_specific/{ancestry}/{gene}')\n",
    "    \n",
    "    b_file_path = \"/new-stg/home/banghua/TWAS_ASSOC/project_data/geno/\" + ancestry + \"/GEUVADIS_EUR_chr\" + str(chr)\n",
    "    out_b_file_path = f'/new-stg/home/banghua/TWAS_ASSOC/project_data/geno_gene_specific/{ancestry}/{gene}/{gene}'\n",
    "    # Step 2: Extract gene-specific SNPs\n",
    "    subprocess.run([plink_path, '--bfile', b_file_path, '--chr', str(chr), \n",
    "                    '--from-bp', str(start), '--to-bp', str(end), \n",
    "                    '--make-bed', '--out', out_b_file_path])\n",
    "    \n",
    "    # Count the number of individuals\n",
    "    with open(f'{out_b_file_path}.fam') as f:\n",
    "        num_individuals = sum(1 for line in f)\n",
    "    \n",
    "    # Calculate split\n",
    "    train_num = int(num_individuals * 0.8)\n",
    "    \n",
    "    # Shuffle individuals\n",
    "    individuals = pd.read_csv(f'{out_b_file_path}.fam', sep='\\s+', header=None)\n",
    "    shuffled = individuals.sample(frac=1).reset_index(drop=True)\n",
    "    \n",
    "    # Split into train/test\n",
    "    train = shuffled.head(train_num)\n",
    "    test = shuffled.tail(num_individuals - train_num)\n",
    "    \n",
    "    train[[0, 1]].to_csv(f'{out_b_file_path}_train.txt', sep='\\t', index=False, header=False)\n",
    "    test[[0, 1]].to_csv(f'{out_b_file_path}_test.txt', sep='\\t', index=False, header=False)\n",
    "    \n",
    "    # Generate train/test datasets\n",
    "    subprocess.run([plink_path, '--bfile', out_b_file_path, '--keep', f'{out_b_file_path}_train.txt', \n",
    "                    '--make-bed', '--out', f'{out_b_file_path}_train'])\n",
    "    subprocess.run([plink_path, '--bfile', out_b_file_path, '--keep', f'{out_b_file_path}_test.txt', \n",
    "                    '--make-bed', '--out', f'{out_b_file_path}_test'])\n",
    "    \n",
    "    # Step 3: Generate gene-specific phenotype\n",
    "    # Get gene expression\n",
    "    gene_idx = full_y_df.columns.get_loc(gene)\n",
    "    gene_expression = full_y_df.iloc[:, gene_idx]\n",
    "\n",
    "    # Generate gene-specific phenotype\n",
    "    train_phenotype = gene_expression[train[1]]\n",
    "    test_phenotype = gene_expression[test[1]]\n",
    "\n",
    "    # Save gene-specific phenotype\n",
    "    train_phenotype.to_csv(f'{out_b_file_path}_train.pheno', sep='\\t', header=False)\n",
    "    test_phenotype.to_csv(f'{out_b_file_path}_test.pheno', sep='\\t', header=False)"
   ]
  },
  {
   "cell_type": "code",
   "execution_count": 13,
   "metadata": {},
   "outputs": [],
   "source": [
    "os.chdir(\"/new-stg/home/banghua/TWAS_ASSOC/project_data/geno_gene_specific/\")"
   ]
  },
  {
   "cell_type": "code",
   "execution_count": 23,
   "metadata": {},
   "outputs": [
    {
     "name": "stdout",
     "output_type": "stream",
     "text": [
      "PLINK v1.90b6.21 64-bit (19 Oct 2020)          www.cog-genomics.org/plink/1.9/\n",
      "(C) 2005-2020 Shaun Purcell, Christopher Chang   GNU General Public License v3\n",
      "Logging to /new-stg/home/banghua/TWAS_ASSOC/project_data/geno_gene_specific/EUR/ENSG00000187634/ENSG00000187634.log.\n",
      "Options in effect:\n",
      "  --bfile /new-stg/home/banghua/TWAS_ASSOC/project_data/geno/EUR/GEUVADIS_EUR_chr1\n",
      "  --chr 1\n",
      "  --from-bp 360260\n",
      "  --make-bed\n",
      "  --out /new-stg/home/banghua/TWAS_ASSOC/project_data/geno_gene_specific/EUR/ENSG00000187634/ENSG00000187634\n",
      "  --to-bp 1360261\n",
      "\n",
      "63755 MB RAM detected; reserving 31877 MB for main workspace.\n",
      "137 out of 85764 variants loaded from .bim file.\n",
      "373 people (0 males, 0 females, 373 ambiguous) loaded from .fam.\n",
      "Ambiguous sex IDs written to\n",
      "/new-stg/home/banghua/TWAS_ASSOC/project_data/geno_gene_specific/EUR/ENSG00000187634/ENSG00000187634.nosex\n",
      ".\n",
      "Using 1 thread (no multithreaded calculations invoked).\n",
      "Before main variant filters, 373 founders and 0 nonfounders present.\n",
      "Calculating allele frequencies... 10111213141516171819202122232425262728293031323334353637383940414243444546474849505152535455565758596061626364656667686970717273747576777879808182838485868788899091929394959697989 done.\n",
      "137 variants and 373 people pass filters and QC.\n",
      "Note: No phenotypes present.\n",
      "--make-bed to\n",
      "/new-stg/home/banghua/TWAS_ASSOC/project_data/geno_gene_specific/EUR/ENSG00000187634/ENSG00000187634.bed\n",
      "+\n",
      "/new-stg/home/banghua/TWAS_ASSOC/project_data/geno_gene_specific/EUR/ENSG00000187634/ENSG00000187634.bim\n",
      "+\n",
      "/new-stg/home/banghua/TWAS_ASSOC/project_data/geno_gene_specific/EUR/ENSG00000187634/ENSG00000187634.fam\n",
      "... 101112131415161718192021222324252627282930313233343536373839404142434445464748495051525354555657585960616263646566676869707172737475767778798081828384858687888990919293949596979899done.\n",
      "PLINK v1.90b6.21 64-bit (19 Oct 2020)          www.cog-genomics.org/plink/1.9/\n",
      "(C) 2005-2020 Shaun Purcell, Christopher Chang   GNU General Public License v3\n",
      "Logging to /new-stg/home/banghua/TWAS_ASSOC/project_data/geno_gene_specific/EUR/ENSG00000187634/ENSG00000187634_train.log.\n",
      "Options in effect:\n",
      "  --bfile /new-stg/home/banghua/TWAS_ASSOC/project_data/geno_gene_specific/EUR/ENSG00000187634/ENSG00000187634\n",
      "  --keep /new-stg/home/banghua/TWAS_ASSOC/project_data/geno_gene_specific/EUR/ENSG00000187634/ENSG00000187634_train.txt\n",
      "  --make-bed\n",
      "  --out /new-stg/home/banghua/TWAS_ASSOC/project_data/geno_gene_specific/EUR/ENSG00000187634/ENSG00000187634_train\n",
      "\n",
      "63755 MB RAM detected; reserving 31877 MB for main workspace.\n",
      "137 variants loaded from .bim file.\n",
      "373 people (0 males, 0 females, 373 ambiguous) loaded from .fam.\n",
      "Ambiguous sex IDs written to\n",
      "/new-stg/home/banghua/TWAS_ASSOC/project_data/geno_gene_specific/EUR/ENSG00000187634/ENSG00000187634_train.nosex\n",
      ".\n",
      "--keep: 298 people remaining.\n",
      "Using 1 thread (no multithreaded calculations invoked).\n",
      "Before main variant filters, 298 founders and 0 nonfounders present.\n",
      "Calculating allele frequencies... 10111213141516171819202122232425262728293031323334353637383940414243444546474849505152535455565758596061626364656667686970717273747576777879808182838485868788899091929394959697989 done.\n",
      "137 variants and 298 people pass filters and QC.\n",
      "Note: No phenotypes present.\n",
      "--make-bed to\n",
      "/new-stg/home/banghua/TWAS_ASSOC/project_data/geno_gene_specific/EUR/ENSG00000187634/ENSG00000187634_train.bed\n",
      "+\n",
      "/new-stg/home/banghua/TWAS_ASSOC/project_data/geno_gene_specific/EUR/ENSG00000187634/ENSG00000187634_train.bim\n",
      "+\n",
      "/new-stg/home/banghua/TWAS_ASSOC/project_data/geno_gene_specific/EUR/ENSG00000187634/ENSG00000187634_train.fam\n",
      "... 101112131415161718192021222324252627282930313233343536373839404142434445464748495051525354555657585960616263646566676869707172737475767778798081828384858687888990919293949596979899done.\n",
      "PLINK v1.90b6.21 64-bit (19 Oct 2020)          www.cog-genomics.org/plink/1.9/\n",
      "(C) 2005-2020 Shaun Purcell, Christopher Chang   GNU General Public License v3\n",
      "Logging to /new-stg/home/banghua/TWAS_ASSOC/project_data/geno_gene_specific/EUR/ENSG00000187634/ENSG00000187634_test.log.\n",
      "Options in effect:\n",
      "  --bfile /new-stg/home/banghua/TWAS_ASSOC/project_data/geno_gene_specific/EUR/ENSG00000187634/ENSG00000187634\n",
      "  --keep /new-stg/home/banghua/TWAS_ASSOC/project_data/geno_gene_specific/EUR/ENSG00000187634/ENSG00000187634_test.txt\n",
      "  --make-bed\n",
      "  --out /new-stg/home/banghua/TWAS_ASSOC/project_data/geno_gene_specific/EUR/ENSG00000187634/ENSG00000187634_test\n",
      "\n",
      "63755 MB RAM detected; reserving 31877 MB for main workspace.\n",
      "137 variants loaded from .bim file.\n",
      "373 people (0 males, 0 females, 373 ambiguous) loaded from .fam.\n",
      "Ambiguous sex IDs written to\n",
      "/new-stg/home/banghua/TWAS_ASSOC/project_data/geno_gene_specific/EUR/ENSG00000187634/ENSG00000187634_test.nosex\n",
      ".\n",
      "--keep: 75 people remaining.\n",
      "Using 1 thread (no multithreaded calculations invoked).\n",
      "Before main variant filters, 75 founders and 0 nonfounders present.\n",
      "Calculating allele frequencies... 10111213141516171819202122232425262728293031323334353637383940414243444546474849505152535455565758596061626364656667686970717273747576777879808182838485868788899091929394959697989 done.\n",
      "137 variants and 75 people pass filters and QC.\n",
      "Note: No phenotypes present.\n",
      "--make-bed to\n",
      "/new-stg/home/banghua/TWAS_ASSOC/project_data/geno_gene_specific/EUR/ENSG00000187634/ENSG00000187634_test.bed\n",
      "+\n",
      "/new-stg/home/banghua/TWAS_ASSOC/project_data/geno_gene_specific/EUR/ENSG00000187634/ENSG00000187634_test.bim\n",
      "+\n",
      "/new-stg/home/banghua/TWAS_ASSOC/project_data/geno_gene_specific/EUR/ENSG00000187634/ENSG00000187634_test.fam\n",
      "... 101112131415161718192021222324252627282930313233343536373839404142434445464748495051525354555657585960616263646566676869707172737475767778798081828384858687888990919293949596979899done.\n"
     ]
    }
   ],
   "source": [
    "process_gene('ENSG00000187634', 1, 360260, 1360261)"
   ]
  },
  {
   "cell_type": "code",
   "execution_count": 33,
   "metadata": {},
   "outputs": [],
   "source": [
    "import subprocess\n",
    "import pandas as pd\n",
    "import numpy as np\n",
    "\n",
    "def weights_bslmm(input, bv_type=1, out=None, gemma_path=\"/new-stg/home/banghua/anaconda3/envs/CSE_284/bin/gemma\", sys_print=True):\n",
    "    \"\"\"\n",
    "    Run BSLMM analysis using GEMMA and extract effect sizes for specified SNPs.\n",
    "\n",
    "    Parameters:\n",
    "    - input: Base name for input files.\n",
    "    - bv_type: Specifies the type of BSLMM analysis.\n",
    "    - out: Optional. Specifies the base name for output files. Defaults to None.\n",
    "    - gemma_path: Path to the GEMMA executable. Defaults to 'gemma'.\n",
    "    - sys_print: If True, prints the GEMMA command output.\n",
    "\n",
    "    Returns:\n",
    "    - A numpy array of effect weights for the input SNPs.\n",
    "    \"\"\"\n",
    "    if out is None:\n",
    "        out = f\"{input}.BSLMM\"\n",
    "\n",
    "    # Constructing the GEMMA command\n",
    "    arg = f\"{gemma_path} -miss 1 -maf 0 -r2 1 -rpace 1000 -wpace 1000 -bfile {input} -bslmm {bv_type} -o {out}\"\n",
    "\n",
    "    # Execute the GEMMA command\n",
    "    result = subprocess.run(arg, shell=True, capture_output=not sys_print)\n",
    "    if not sys_print:\n",
    "        print(result.stdout.decode())  # Optional: print GEMMA output for debugging.\n",
    "\n",
    "    # Read the output parameter file\n",
    "    try:\n",
    "        eff = pd.read_table(f\"{out}.param.txt\", header=0, sep='\\t')\n",
    "    except FileNotFoundError:\n",
    "        raise FileNotFoundError(\"GEMMA output file not found. Check GEMMA execution and output path.\")\n",
    "\n",
    "    # Initialize effect weights with NaN for all SNPs\n",
    "    snp = pd.read_table(f\"{input}.bim\", header=None, sep='\\t')[1].values\n",
    "    eff_wgt = pd.Series(np.nan, index=snp)\n",
    "\n",
    "    # Match SNPs and assign weights\n",
    "    for i, snp_id in enumerate(snp):\n",
    "        if snp_id in eff['rs'].values:\n",
    "            row = eff.loc[eff['rs'] == snp_id].iloc[0]\n",
    "            eff_wgt.at[snp_id] = row['alpha'] + row['beta'] * row['gamma']\n",
    "\n",
    "    return eff_wgt.values"
   ]
  },
  {
   "cell_type": "code",
   "execution_count": 25,
   "metadata": {},
   "outputs": [],
   "source": [
    "input = \"/new-stg/home/banghua/TWAS_ASSOC/project_data/geno_gene_specific/EUR/ENSG00000000938/ENSG00000000938_train\""
   ]
  },
  {
   "cell_type": "code",
   "execution_count": 34,
   "metadata": {},
   "outputs": [
    {
     "name": "stdout",
     "output_type": "stream",
     "text": [
      "GEMMA 0.98.3 (2020-11-28) by Xiang Zhou and team (C) 2012-2020\n",
      "Reading Files ... \n",
      "ERROR: Enforce failed for number of analyzed individuals equals 0. in src/param.cpp at line 2073 in ProcessCvtPhen\n"
     ]
    },
    {
     "ename": "FileNotFoundError",
     "evalue": "GEMMA output file not found. Check GEMMA execution and output path.",
     "output_type": "error",
     "traceback": [
      "\u001b[0;31m---------------------------------------------------------------------------\u001b[0m",
      "\u001b[0;31mFileNotFoundError\u001b[0m                         Traceback (most recent call last)",
      "Cell \u001b[0;32mIn[33], line 32\u001b[0m, in \u001b[0;36mweights_bslmm\u001b[0;34m(input, bv_type, out, gemma_path, sys_print)\u001b[0m\n\u001b[1;32m     31\u001b[0m \u001b[38;5;28;01mtry\u001b[39;00m:\n\u001b[0;32m---> 32\u001b[0m     eff \u001b[38;5;241m=\u001b[39m \u001b[43mpd\u001b[49m\u001b[38;5;241;43m.\u001b[39;49m\u001b[43mread_table\u001b[49m\u001b[43m(\u001b[49m\u001b[38;5;124;43mf\u001b[39;49m\u001b[38;5;124;43m\"\u001b[39;49m\u001b[38;5;132;43;01m{\u001b[39;49;00m\u001b[43mout\u001b[49m\u001b[38;5;132;43;01m}\u001b[39;49;00m\u001b[38;5;124;43m.param.txt\u001b[39;49m\u001b[38;5;124;43m\"\u001b[39;49m\u001b[43m,\u001b[49m\u001b[43m \u001b[49m\u001b[43mheader\u001b[49m\u001b[38;5;241;43m=\u001b[39;49m\u001b[38;5;241;43m0\u001b[39;49m\u001b[43m,\u001b[49m\u001b[43m \u001b[49m\u001b[43msep\u001b[49m\u001b[38;5;241;43m=\u001b[39;49m\u001b[38;5;124;43m'\u001b[39;49m\u001b[38;5;130;43;01m\\t\u001b[39;49;00m\u001b[38;5;124;43m'\u001b[39;49m\u001b[43m)\u001b[49m\n\u001b[1;32m     33\u001b[0m \u001b[38;5;28;01mexcept\u001b[39;00m \u001b[38;5;167;01mFileNotFoundError\u001b[39;00m:\n",
      "File \u001b[0;32m~/anaconda3/envs/CSE_284/lib/python3.10/site-packages/pandas/io/parsers/readers.py:1405\u001b[0m, in \u001b[0;36mread_table\u001b[0;34m(filepath_or_buffer, sep, delimiter, header, names, index_col, usecols, dtype, engine, converters, true_values, false_values, skipinitialspace, skiprows, skipfooter, nrows, na_values, keep_default_na, na_filter, verbose, skip_blank_lines, parse_dates, infer_datetime_format, keep_date_col, date_parser, date_format, dayfirst, cache_dates, iterator, chunksize, compression, thousands, decimal, lineterminator, quotechar, quoting, doublequote, escapechar, comment, encoding, encoding_errors, dialect, on_bad_lines, delim_whitespace, low_memory, memory_map, float_precision, storage_options, dtype_backend)\u001b[0m\n\u001b[1;32m   1403\u001b[0m kwds\u001b[38;5;241m.\u001b[39mupdate(kwds_defaults)\n\u001b[0;32m-> 1405\u001b[0m \u001b[38;5;28;01mreturn\u001b[39;00m \u001b[43m_read\u001b[49m\u001b[43m(\u001b[49m\u001b[43mfilepath_or_buffer\u001b[49m\u001b[43m,\u001b[49m\u001b[43m \u001b[49m\u001b[43mkwds\u001b[49m\u001b[43m)\u001b[49m\n",
      "File \u001b[0;32m~/anaconda3/envs/CSE_284/lib/python3.10/site-packages/pandas/io/parsers/readers.py:620\u001b[0m, in \u001b[0;36m_read\u001b[0;34m(filepath_or_buffer, kwds)\u001b[0m\n\u001b[1;32m    619\u001b[0m \u001b[38;5;66;03m# Create the parser.\u001b[39;00m\n\u001b[0;32m--> 620\u001b[0m parser \u001b[38;5;241m=\u001b[39m \u001b[43mTextFileReader\u001b[49m\u001b[43m(\u001b[49m\u001b[43mfilepath_or_buffer\u001b[49m\u001b[43m,\u001b[49m\u001b[43m \u001b[49m\u001b[38;5;241;43m*\u001b[39;49m\u001b[38;5;241;43m*\u001b[39;49m\u001b[43mkwds\u001b[49m\u001b[43m)\u001b[49m\n\u001b[1;32m    622\u001b[0m \u001b[38;5;28;01mif\u001b[39;00m chunksize \u001b[38;5;129;01mor\u001b[39;00m iterator:\n",
      "File \u001b[0;32m~/anaconda3/envs/CSE_284/lib/python3.10/site-packages/pandas/io/parsers/readers.py:1620\u001b[0m, in \u001b[0;36mTextFileReader.__init__\u001b[0;34m(self, f, engine, **kwds)\u001b[0m\n\u001b[1;32m   1619\u001b[0m \u001b[38;5;28mself\u001b[39m\u001b[38;5;241m.\u001b[39mhandles: IOHandles \u001b[38;5;241m|\u001b[39m \u001b[38;5;28;01mNone\u001b[39;00m \u001b[38;5;241m=\u001b[39m \u001b[38;5;28;01mNone\u001b[39;00m\n\u001b[0;32m-> 1620\u001b[0m \u001b[38;5;28mself\u001b[39m\u001b[38;5;241m.\u001b[39m_engine \u001b[38;5;241m=\u001b[39m \u001b[38;5;28;43mself\u001b[39;49m\u001b[38;5;241;43m.\u001b[39;49m\u001b[43m_make_engine\u001b[49m\u001b[43m(\u001b[49m\u001b[43mf\u001b[49m\u001b[43m,\u001b[49m\u001b[43m \u001b[49m\u001b[38;5;28;43mself\u001b[39;49m\u001b[38;5;241;43m.\u001b[39;49m\u001b[43mengine\u001b[49m\u001b[43m)\u001b[49m\n",
      "File \u001b[0;32m~/anaconda3/envs/CSE_284/lib/python3.10/site-packages/pandas/io/parsers/readers.py:1880\u001b[0m, in \u001b[0;36mTextFileReader._make_engine\u001b[0;34m(self, f, engine)\u001b[0m\n\u001b[1;32m   1879\u001b[0m         mode \u001b[38;5;241m+\u001b[39m\u001b[38;5;241m=\u001b[39m \u001b[38;5;124m\"\u001b[39m\u001b[38;5;124mb\u001b[39m\u001b[38;5;124m\"\u001b[39m\n\u001b[0;32m-> 1880\u001b[0m \u001b[38;5;28mself\u001b[39m\u001b[38;5;241m.\u001b[39mhandles \u001b[38;5;241m=\u001b[39m \u001b[43mget_handle\u001b[49m\u001b[43m(\u001b[49m\n\u001b[1;32m   1881\u001b[0m \u001b[43m    \u001b[49m\u001b[43mf\u001b[49m\u001b[43m,\u001b[49m\n\u001b[1;32m   1882\u001b[0m \u001b[43m    \u001b[49m\u001b[43mmode\u001b[49m\u001b[43m,\u001b[49m\n\u001b[1;32m   1883\u001b[0m \u001b[43m    \u001b[49m\u001b[43mencoding\u001b[49m\u001b[38;5;241;43m=\u001b[39;49m\u001b[38;5;28;43mself\u001b[39;49m\u001b[38;5;241;43m.\u001b[39;49m\u001b[43moptions\u001b[49m\u001b[38;5;241;43m.\u001b[39;49m\u001b[43mget\u001b[49m\u001b[43m(\u001b[49m\u001b[38;5;124;43m\"\u001b[39;49m\u001b[38;5;124;43mencoding\u001b[39;49m\u001b[38;5;124;43m\"\u001b[39;49m\u001b[43m,\u001b[49m\u001b[43m \u001b[49m\u001b[38;5;28;43;01mNone\u001b[39;49;00m\u001b[43m)\u001b[49m\u001b[43m,\u001b[49m\n\u001b[1;32m   1884\u001b[0m \u001b[43m    \u001b[49m\u001b[43mcompression\u001b[49m\u001b[38;5;241;43m=\u001b[39;49m\u001b[38;5;28;43mself\u001b[39;49m\u001b[38;5;241;43m.\u001b[39;49m\u001b[43moptions\u001b[49m\u001b[38;5;241;43m.\u001b[39;49m\u001b[43mget\u001b[49m\u001b[43m(\u001b[49m\u001b[38;5;124;43m\"\u001b[39;49m\u001b[38;5;124;43mcompression\u001b[39;49m\u001b[38;5;124;43m\"\u001b[39;49m\u001b[43m,\u001b[49m\u001b[43m \u001b[49m\u001b[38;5;28;43;01mNone\u001b[39;49;00m\u001b[43m)\u001b[49m\u001b[43m,\u001b[49m\n\u001b[1;32m   1885\u001b[0m \u001b[43m    \u001b[49m\u001b[43mmemory_map\u001b[49m\u001b[38;5;241;43m=\u001b[39;49m\u001b[38;5;28;43mself\u001b[39;49m\u001b[38;5;241;43m.\u001b[39;49m\u001b[43moptions\u001b[49m\u001b[38;5;241;43m.\u001b[39;49m\u001b[43mget\u001b[49m\u001b[43m(\u001b[49m\u001b[38;5;124;43m\"\u001b[39;49m\u001b[38;5;124;43mmemory_map\u001b[39;49m\u001b[38;5;124;43m\"\u001b[39;49m\u001b[43m,\u001b[49m\u001b[43m \u001b[49m\u001b[38;5;28;43;01mFalse\u001b[39;49;00m\u001b[43m)\u001b[49m\u001b[43m,\u001b[49m\n\u001b[1;32m   1886\u001b[0m \u001b[43m    \u001b[49m\u001b[43mis_text\u001b[49m\u001b[38;5;241;43m=\u001b[39;49m\u001b[43mis_text\u001b[49m\u001b[43m,\u001b[49m\n\u001b[1;32m   1887\u001b[0m \u001b[43m    \u001b[49m\u001b[43merrors\u001b[49m\u001b[38;5;241;43m=\u001b[39;49m\u001b[38;5;28;43mself\u001b[39;49m\u001b[38;5;241;43m.\u001b[39;49m\u001b[43moptions\u001b[49m\u001b[38;5;241;43m.\u001b[39;49m\u001b[43mget\u001b[49m\u001b[43m(\u001b[49m\u001b[38;5;124;43m\"\u001b[39;49m\u001b[38;5;124;43mencoding_errors\u001b[39;49m\u001b[38;5;124;43m\"\u001b[39;49m\u001b[43m,\u001b[49m\u001b[43m \u001b[49m\u001b[38;5;124;43m\"\u001b[39;49m\u001b[38;5;124;43mstrict\u001b[39;49m\u001b[38;5;124;43m\"\u001b[39;49m\u001b[43m)\u001b[49m\u001b[43m,\u001b[49m\n\u001b[1;32m   1888\u001b[0m \u001b[43m    \u001b[49m\u001b[43mstorage_options\u001b[49m\u001b[38;5;241;43m=\u001b[39;49m\u001b[38;5;28;43mself\u001b[39;49m\u001b[38;5;241;43m.\u001b[39;49m\u001b[43moptions\u001b[49m\u001b[38;5;241;43m.\u001b[39;49m\u001b[43mget\u001b[49m\u001b[43m(\u001b[49m\u001b[38;5;124;43m\"\u001b[39;49m\u001b[38;5;124;43mstorage_options\u001b[39;49m\u001b[38;5;124;43m\"\u001b[39;49m\u001b[43m,\u001b[49m\u001b[43m \u001b[49m\u001b[38;5;28;43;01mNone\u001b[39;49;00m\u001b[43m)\u001b[49m\u001b[43m,\u001b[49m\n\u001b[1;32m   1889\u001b[0m \u001b[43m\u001b[49m\u001b[43m)\u001b[49m\n\u001b[1;32m   1890\u001b[0m \u001b[38;5;28;01massert\u001b[39;00m \u001b[38;5;28mself\u001b[39m\u001b[38;5;241m.\u001b[39mhandles \u001b[38;5;129;01mis\u001b[39;00m \u001b[38;5;129;01mnot\u001b[39;00m \u001b[38;5;28;01mNone\u001b[39;00m\n",
      "File \u001b[0;32m~/anaconda3/envs/CSE_284/lib/python3.10/site-packages/pandas/io/common.py:873\u001b[0m, in \u001b[0;36mget_handle\u001b[0;34m(path_or_buf, mode, encoding, compression, memory_map, is_text, errors, storage_options)\u001b[0m\n\u001b[1;32m    871\u001b[0m \u001b[38;5;28;01mif\u001b[39;00m ioargs\u001b[38;5;241m.\u001b[39mencoding \u001b[38;5;129;01mand\u001b[39;00m \u001b[38;5;124m\"\u001b[39m\u001b[38;5;124mb\u001b[39m\u001b[38;5;124m\"\u001b[39m \u001b[38;5;129;01mnot\u001b[39;00m \u001b[38;5;129;01min\u001b[39;00m ioargs\u001b[38;5;241m.\u001b[39mmode:\n\u001b[1;32m    872\u001b[0m     \u001b[38;5;66;03m# Encoding\u001b[39;00m\n\u001b[0;32m--> 873\u001b[0m     handle \u001b[38;5;241m=\u001b[39m \u001b[38;5;28;43mopen\u001b[39;49m\u001b[43m(\u001b[49m\n\u001b[1;32m    874\u001b[0m \u001b[43m        \u001b[49m\u001b[43mhandle\u001b[49m\u001b[43m,\u001b[49m\n\u001b[1;32m    875\u001b[0m \u001b[43m        \u001b[49m\u001b[43mioargs\u001b[49m\u001b[38;5;241;43m.\u001b[39;49m\u001b[43mmode\u001b[49m\u001b[43m,\u001b[49m\n\u001b[1;32m    876\u001b[0m \u001b[43m        \u001b[49m\u001b[43mencoding\u001b[49m\u001b[38;5;241;43m=\u001b[39;49m\u001b[43mioargs\u001b[49m\u001b[38;5;241;43m.\u001b[39;49m\u001b[43mencoding\u001b[49m\u001b[43m,\u001b[49m\n\u001b[1;32m    877\u001b[0m \u001b[43m        \u001b[49m\u001b[43merrors\u001b[49m\u001b[38;5;241;43m=\u001b[39;49m\u001b[43merrors\u001b[49m\u001b[43m,\u001b[49m\n\u001b[1;32m    878\u001b[0m \u001b[43m        \u001b[49m\u001b[43mnewline\u001b[49m\u001b[38;5;241;43m=\u001b[39;49m\u001b[38;5;124;43m\"\u001b[39;49m\u001b[38;5;124;43m\"\u001b[39;49m\u001b[43m,\u001b[49m\n\u001b[1;32m    879\u001b[0m \u001b[43m    \u001b[49m\u001b[43m)\u001b[49m\n\u001b[1;32m    880\u001b[0m \u001b[38;5;28;01melse\u001b[39;00m:\n\u001b[1;32m    881\u001b[0m     \u001b[38;5;66;03m# Binary mode\u001b[39;00m\n",
      "\u001b[0;31mFileNotFoundError\u001b[0m: [Errno 2] No such file or directory: '/new-stg/home/banghua/TWAS_ASSOC/project_data/geno_gene_specific/EUR/ENSG00000000938/ENSG00000000938_train.BSLMM.param.txt'",
      "\nDuring handling of the above exception, another exception occurred:\n",
      "\u001b[0;31mFileNotFoundError\u001b[0m                         Traceback (most recent call last)",
      "Cell \u001b[0;32mIn[34], line 1\u001b[0m\n\u001b[0;32m----> 1\u001b[0m test_weights \u001b[38;5;241m=\u001b[39m \u001b[43mweights_bslmm\u001b[49m\u001b[43m(\u001b[49m\u001b[38;5;28;43minput\u001b[39;49m\u001b[43m)\u001b[49m\n",
      "Cell \u001b[0;32mIn[33], line 34\u001b[0m, in \u001b[0;36mweights_bslmm\u001b[0;34m(input, bv_type, out, gemma_path, sys_print)\u001b[0m\n\u001b[1;32m     32\u001b[0m     eff \u001b[38;5;241m=\u001b[39m pd\u001b[38;5;241m.\u001b[39mread_table(\u001b[38;5;124mf\u001b[39m\u001b[38;5;124m\"\u001b[39m\u001b[38;5;132;01m{\u001b[39;00mout\u001b[38;5;132;01m}\u001b[39;00m\u001b[38;5;124m.param.txt\u001b[39m\u001b[38;5;124m\"\u001b[39m, header\u001b[38;5;241m=\u001b[39m\u001b[38;5;241m0\u001b[39m, sep\u001b[38;5;241m=\u001b[39m\u001b[38;5;124m'\u001b[39m\u001b[38;5;130;01m\\t\u001b[39;00m\u001b[38;5;124m'\u001b[39m)\n\u001b[1;32m     33\u001b[0m \u001b[38;5;28;01mexcept\u001b[39;00m \u001b[38;5;167;01mFileNotFoundError\u001b[39;00m:\n\u001b[0;32m---> 34\u001b[0m     \u001b[38;5;28;01mraise\u001b[39;00m \u001b[38;5;167;01mFileNotFoundError\u001b[39;00m(\u001b[38;5;124m\"\u001b[39m\u001b[38;5;124mGEMMA output file not found. Check GEMMA execution and output path.\u001b[39m\u001b[38;5;124m\"\u001b[39m)\n\u001b[1;32m     36\u001b[0m \u001b[38;5;66;03m# Initialize effect weights with NaN for all SNPs\u001b[39;00m\n\u001b[1;32m     37\u001b[0m snp \u001b[38;5;241m=\u001b[39m pd\u001b[38;5;241m.\u001b[39mread_table(\u001b[38;5;124mf\u001b[39m\u001b[38;5;124m\"\u001b[39m\u001b[38;5;132;01m{\u001b[39;00m\u001b[38;5;28minput\u001b[39m\u001b[38;5;132;01m}\u001b[39;00m\u001b[38;5;124m.bim\u001b[39m\u001b[38;5;124m\"\u001b[39m, header\u001b[38;5;241m=\u001b[39m\u001b[38;5;28;01mNone\u001b[39;00m, sep\u001b[38;5;241m=\u001b[39m\u001b[38;5;124m'\u001b[39m\u001b[38;5;130;01m\\t\u001b[39;00m\u001b[38;5;124m'\u001b[39m)[\u001b[38;5;241m1\u001b[39m]\u001b[38;5;241m.\u001b[39mvalues\n",
      "\u001b[0;31mFileNotFoundError\u001b[0m: GEMMA output file not found. Check GEMMA execution and output path."
     ]
    }
   ],
   "source": [
    "test_weights = weights_bslmm(input)"
   ]
  }
 ],
 "metadata": {
  "kernelspec": {
   "display_name": "CSE_284",
   "language": "python",
   "name": "python3"
  },
  "language_info": {
   "codemirror_mode": {
    "name": "ipython",
    "version": 3
   },
   "file_extension": ".py",
   "mimetype": "text/x-python",
   "name": "python",
   "nbconvert_exporter": "python",
   "pygments_lexer": "ipython3",
   "version": "3.10.13"
  }
 },
 "nbformat": 4,
 "nbformat_minor": 2
}
