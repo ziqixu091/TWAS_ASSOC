{
 "cells": [
  {
   "cell_type": "code",
   "execution_count": 1,
   "metadata": {},
   "outputs": [],
   "source": [
    "import pandas as pd\n",
    "import numpy as np\n",
    "from tqdm import tqdm"
   ]
  },
  {
   "cell_type": "code",
   "execution_count": 21,
   "metadata": {},
   "outputs": [
    {
     "name": "stderr",
     "output_type": "stream",
     "text": [
      "/var/folders/7m/8xr484fd22ddvz2b11slgw440000gn/T/ipykernel_60141/3169761084.py:2: DtypeWarning: Columns (0) have mixed types. Specify dtype option on import or set low_memory=False.\n",
      "  df_yri = pd.read_csv('./data/GEUVADIS_normalized_processed_ge_YRI.bed.gz', sep='\\t')\n",
      "/var/folders/7m/8xr484fd22ddvz2b11slgw440000gn/T/ipykernel_60141/3169761084.py:3: DtypeWarning: Columns (0) have mixed types. Specify dtype option on import or set low_memory=False.\n",
      "  df_eur = pd.read_csv('./data/GEUVADIS_normalized_processed_ge_EUR.bed.gz', sep='\\t')\n"
     ]
    }
   ],
   "source": [
    "df_gtex = pd.read_csv('./data/GTEx_gene_v8_hg19.tsv.gz', sep='\\t', index_col=0)\n",
    "df_yri = pd.read_csv('./data/GEUVADIS_normalized_processed_ge_YRI.bed.gz', sep='\\t')\n",
    "df_eur = pd.read_csv('./data/GEUVADIS_normalized_processed_ge_EUR.bed.gz', sep='\\t')"
   ]
  },
  {
   "cell_type": "code",
   "execution_count": 22,
   "metadata": {},
   "outputs": [],
   "source": [
    "df_protein = df_gtex[df_gtex['geneType'] == 'protein_coding']"
   ]
  },
  {
   "cell_type": "code",
   "execution_count": 23,
   "metadata": {},
   "outputs": [
    {
     "name": "stderr",
     "output_type": "stream",
     "text": [
      "/var/folders/7m/8xr484fd22ddvz2b11slgw440000gn/T/ipykernel_60141/933764400.py:4: SettingWithCopyWarning: \n",
      "A value is trying to be set on a copy of a slice from a DataFrame.\n",
      "Try using .loc[row_indexer,col_indexer] = value instead\n",
      "\n",
      "See the caveats in the documentation: https://pandas.pydata.org/pandas-docs/stable/user_guide/indexing.html#returning-a-view-versus-a-copy\n",
      "  df_protein['geneId'] = df_protein['geneId'].str.split('.').str[0]\n"
     ]
    }
   ],
   "source": [
    "#df_protein['geneId'] = df_protein['geneId'].str.split('.').str[0]\n",
    "df_eur['gene_id'] = df_eur['gene_id'].str.split('.').str[0]\n",
    "df_yri['gene_id'] = df_yri['gene_id'].str.split('.').str[0]\n",
    "df_protein['geneId'] = df_protein['geneId'].str.split('.').str[0]"
   ]
  },
  {
   "cell_type": "code",
   "execution_count": 199,
   "metadata": {},
   "outputs": [],
   "source": [
    "df_eur_protein = df_eur[df_eur['gene_id'].isin(df_protein['geneId'])]\n",
    "df_afr_protein = df_yri[df_yri['gene_id'].isin(df_protein['geneId'])]"
   ]
  },
  {
   "cell_type": "code",
   "execution_count": 201,
   "metadata": {},
   "outputs": [],
   "source": [
    "# remnove all rows with #chr == X, Y, M\n",
    "df_eur_protein = df_eur_protein[~df_eur_protein['#chr'].isin(['X', 'Y', 'M'])]\n",
    "df_afr_protein = df_afr_protein[~df_afr_protein['#chr'].isin(['X', 'Y', 'M'])]"
   ]
  },
  {
   "cell_type": "code",
   "execution_count": 202,
   "metadata": {},
   "outputs": [
    {
     "name": "stderr",
     "output_type": "stream",
     "text": [
      "/var/folders/7m/8xr484fd22ddvz2b11slgw440000gn/T/ipykernel_24079/453981005.py:2: SettingWithCopyWarning: \n",
      "A value is trying to be set on a copy of a slice from a DataFrame.\n",
      "Try using .loc[row_indexer,col_indexer] = value instead\n",
      "\n",
      "See the caveats in the documentation: https://pandas.pydata.org/pandas-docs/stable/user_guide/indexing.html#returning-a-view-versus-a-copy\n",
      "  df_eur_protein['start'] = df_eur_protein['start'] - 500000\n",
      "/var/folders/7m/8xr484fd22ddvz2b11slgw440000gn/T/ipykernel_24079/453981005.py:3: SettingWithCopyWarning: \n",
      "A value is trying to be set on a copy of a slice from a DataFrame.\n",
      "Try using .loc[row_indexer,col_indexer] = value instead\n",
      "\n",
      "See the caveats in the documentation: https://pandas.pydata.org/pandas-docs/stable/user_guide/indexing.html#returning-a-view-versus-a-copy\n",
      "  df_eur_protein['end'] = df_eur_protein['end'] + 500000\n"
     ]
    }
   ],
   "source": [
    "# subtract 500k from start and add 500k to end\n",
    "df_eur_protein['start'] = df_eur_protein['start'] - 500000\n",
    "df_eur_protein['end'] = df_eur_protein['end'] + 500000\n",
    "df_afr_protein['start'] = df_afr_protein['start'] - 500000\n",
    "df_afr_protein['end'] = df_afr_protein['end'] + 500000"
   ]
  },
  {
   "cell_type": "code",
   "execution_count": 203,
   "metadata": {},
   "outputs": [
    {
     "data": {
      "text/html": [
       "<div>\n",
       "<style scoped>\n",
       "    .dataframe tbody tr th:only-of-type {\n",
       "        vertical-align: middle;\n",
       "    }\n",
       "\n",
       "    .dataframe tbody tr th {\n",
       "        vertical-align: top;\n",
       "    }\n",
       "\n",
       "    .dataframe thead th {\n",
       "        text-align: right;\n",
       "    }\n",
       "</style>\n",
       "<table border=\"1\" class=\"dataframe\">\n",
       "  <thead>\n",
       "    <tr style=\"text-align: right;\">\n",
       "      <th></th>\n",
       "      <th>#chr</th>\n",
       "      <th>start</th>\n",
       "      <th>end</th>\n",
       "      <th>gene_id</th>\n",
       "      <th>HG00096</th>\n",
       "      <th>HG00097</th>\n",
       "      <th>HG00099</th>\n",
       "      <th>HG00100</th>\n",
       "      <th>HG00101</th>\n",
       "      <th>HG00102</th>\n",
       "      <th>...</th>\n",
       "      <th>NA20810</th>\n",
       "      <th>NA20811</th>\n",
       "      <th>NA20812</th>\n",
       "      <th>NA20813</th>\n",
       "      <th>NA20814</th>\n",
       "      <th>NA20815</th>\n",
       "      <th>NA20816</th>\n",
       "      <th>NA20819</th>\n",
       "      <th>NA20826</th>\n",
       "      <th>NA20828</th>\n",
       "    </tr>\n",
       "  </thead>\n",
       "  <tbody>\n",
       "    <tr>\n",
       "      <th>44</th>\n",
       "      <td>1</td>\n",
       "      <td>360260</td>\n",
       "      <td>1360261</td>\n",
       "      <td>ENSG00000187634</td>\n",
       "      <td>-0.321292</td>\n",
       "      <td>-0.040332</td>\n",
       "      <td>-1.951999</td>\n",
       "      <td>-0.293111</td>\n",
       "      <td>-0.209856</td>\n",
       "      <td>0.697876</td>\n",
       "      <td>...</td>\n",
       "      <td>-2.110067</td>\n",
       "      <td>0.414806</td>\n",
       "      <td>1.411230</td>\n",
       "      <td>0.996443</td>\n",
       "      <td>-1.530046</td>\n",
       "      <td>-0.314224</td>\n",
       "      <td>-0.161990</td>\n",
       "      <td>0.335477</td>\n",
       "      <td>1.089033</td>\n",
       "      <td>-0.614517</td>\n",
       "    </tr>\n",
       "    <tr>\n",
       "      <th>45</th>\n",
       "      <td>1</td>\n",
       "      <td>379584</td>\n",
       "      <td>1379585</td>\n",
       "      <td>ENSG00000188976</td>\n",
       "      <td>-0.349730</td>\n",
       "      <td>0.155185</td>\n",
       "      <td>-3.002131</td>\n",
       "      <td>-0.272129</td>\n",
       "      <td>0.385682</td>\n",
       "      <td>-0.932252</td>\n",
       "      <td>...</td>\n",
       "      <td>-2.255074</td>\n",
       "      <td>0.196136</td>\n",
       "      <td>2.051539</td>\n",
       "      <td>-0.155185</td>\n",
       "      <td>-0.209856</td>\n",
       "      <td>1.234120</td>\n",
       "      <td>0.759220</td>\n",
       "      <td>0.237418</td>\n",
       "      <td>-0.026884</td>\n",
       "      <td>-0.094222</td>\n",
       "    </tr>\n",
       "    <tr>\n",
       "      <th>46</th>\n",
       "      <td>1</td>\n",
       "      <td>395967</td>\n",
       "      <td>1395968</td>\n",
       "      <td>ENSG00000187961</td>\n",
       "      <td>-1.831512</td>\n",
       "      <td>0.196136</td>\n",
       "      <td>-0.723832</td>\n",
       "      <td>0.265162</td>\n",
       "      <td>1.053253</td>\n",
       "      <td>-1.648765</td>\n",
       "      <td>...</td>\n",
       "      <td>0.706475</td>\n",
       "      <td>-0.474156</td>\n",
       "      <td>0.542998</td>\n",
       "      <td>2.110067</td>\n",
       "      <td>0.141596</td>\n",
       "      <td>-0.422141</td>\n",
       "      <td>0.026884</td>\n",
       "      <td>1.358634</td>\n",
       "      <td>-0.871689</td>\n",
       "      <td>-0.598363</td>\n",
       "    </tr>\n",
       "    <tr>\n",
       "      <th>47</th>\n",
       "      <td>1</td>\n",
       "      <td>401877</td>\n",
       "      <td>1401878</td>\n",
       "      <td>ENSG00000187583</td>\n",
       "      <td>2.176865</td>\n",
       "      <td>-0.244336</td>\n",
       "      <td>-1.468048</td>\n",
       "      <td>-1.999295</td>\n",
       "      <td>-0.655627</td>\n",
       "      <td>-0.286103</td>\n",
       "      <td>...</td>\n",
       "      <td>1.053253</td>\n",
       "      <td>1.868717</td>\n",
       "      <td>0.663981</td>\n",
       "      <td>-0.202991</td>\n",
       "      <td>-0.033607</td>\n",
       "      <td>1.139027</td>\n",
       "      <td>-1.219854</td>\n",
       "      <td>0.385682</td>\n",
       "      <td>-1.309549</td>\n",
       "      <td>1.831512</td>\n",
       "    </tr>\n",
       "    <tr>\n",
       "      <th>48</th>\n",
       "      <td>1</td>\n",
       "      <td>410579</td>\n",
       "      <td>1410580</td>\n",
       "      <td>ENSG00000187642</td>\n",
       "      <td>-1.574891</td>\n",
       "      <td>-0.209856</td>\n",
       "      <td>-0.871689</td>\n",
       "      <td>-0.777274</td>\n",
       "      <td>-1.448587</td>\n",
       "      <td>-0.921924</td>\n",
       "      <td>...</td>\n",
       "      <td>-0.786396</td>\n",
       "      <td>1.951999</td>\n",
       "      <td>-0.414806</td>\n",
       "      <td>-1.325557</td>\n",
       "      <td>0.496838</td>\n",
       "      <td>0.286103</td>\n",
       "      <td>0.512103</td>\n",
       "      <td>0.371244</td>\n",
       "      <td>-1.341912</td>\n",
       "      <td>0.614517</td>\n",
       "    </tr>\n",
       "    <tr>\n",
       "      <th>...</th>\n",
       "      <td>...</td>\n",
       "      <td>...</td>\n",
       "      <td>...</td>\n",
       "      <td>...</td>\n",
       "      <td>...</td>\n",
       "      <td>...</td>\n",
       "      <td>...</td>\n",
       "      <td>...</td>\n",
       "      <td>...</td>\n",
       "      <td>...</td>\n",
       "      <td>...</td>\n",
       "      <td>...</td>\n",
       "      <td>...</td>\n",
       "      <td>...</td>\n",
       "      <td>...</td>\n",
       "      <td>...</td>\n",
       "      <td>...</td>\n",
       "      <td>...</td>\n",
       "      <td>...</td>\n",
       "      <td>...</td>\n",
       "      <td>...</td>\n",
       "    </tr>\n",
       "    <tr>\n",
       "      <th>22711</th>\n",
       "      <td>9</td>\n",
       "      <td>139949356</td>\n",
       "      <td>140949357</td>\n",
       "      <td>ENSG00000148399</td>\n",
       "      <td>0.852202</td>\n",
       "      <td>0.639053</td>\n",
       "      <td>-3.002131</td>\n",
       "      <td>-0.901557</td>\n",
       "      <td>-0.706475</td>\n",
       "      <td>-1.429659</td>\n",
       "      <td>...</td>\n",
       "      <td>1.831512</td>\n",
       "      <td>0.279109</td>\n",
       "      <td>0.371244</td>\n",
       "      <td>-1.448587</td>\n",
       "      <td>0.189289</td>\n",
       "      <td>1.278502</td>\n",
       "      <td>1.530046</td>\n",
       "      <td>-2.472829</td>\n",
       "      <td>0.481689</td>\n",
       "      <td>0.833034</td>\n",
       "    </tr>\n",
       "    <tr>\n",
       "      <th>22712</th>\n",
       "      <td>9</td>\n",
       "      <td>139976531</td>\n",
       "      <td>140976532</td>\n",
       "      <td>ENSG00000165724</td>\n",
       "      <td>-0.073989</td>\n",
       "      <td>-0.400202</td>\n",
       "      <td>-2.472829</td>\n",
       "      <td>2.650264</td>\n",
       "      <td>-0.293111</td>\n",
       "      <td>-2.051539</td>\n",
       "      <td>...</td>\n",
       "      <td>1.951999</td>\n",
       "      <td>0.286103</td>\n",
       "      <td>2.110067</td>\n",
       "      <td>-1.030130</td>\n",
       "      <td>-1.598555</td>\n",
       "      <td>1.151979</td>\n",
       "      <td>1.508732</td>\n",
       "      <td>0.385682</td>\n",
       "      <td>-0.689328</td>\n",
       "      <td>-0.013441</td>\n",
       "    </tr>\n",
       "    <tr>\n",
       "      <th>22713</th>\n",
       "      <td>9</td>\n",
       "      <td>140000106</td>\n",
       "      <td>141000107</td>\n",
       "      <td>ENSG00000197070</td>\n",
       "      <td>-0.094222</td>\n",
       "      <td>-0.265162</td>\n",
       "      <td>-1.552079</td>\n",
       "      <td>0.378453</td>\n",
       "      <td>1.248641</td>\n",
       "      <td>-0.067252</td>\n",
       "      <td>...</td>\n",
       "      <td>-0.622654</td>\n",
       "      <td>0.750285</td>\n",
       "      <td>2.472829</td>\n",
       "      <td>0.293111</td>\n",
       "      <td>-0.655627</td>\n",
       "      <td>-0.335477</td>\n",
       "      <td>1.089033</td>\n",
       "      <td>2.255074</td>\n",
       "      <td>0.732593</td>\n",
       "      <td>0.321292</td>\n",
       "    </tr>\n",
       "    <tr>\n",
       "      <th>22715</th>\n",
       "      <td>9</td>\n",
       "      <td>140013444</td>\n",
       "      <td>141013445</td>\n",
       "      <td>ENSG00000181090</td>\n",
       "      <td>-0.932252</td>\n",
       "      <td>-1.263431</td>\n",
       "      <td>-2.110067</td>\n",
       "      <td>-0.265162</td>\n",
       "      <td>-1.126264</td>\n",
       "      <td>-0.842579</td>\n",
       "      <td>...</td>\n",
       "      <td>1.488082</td>\n",
       "      <td>1.065028</td>\n",
       "      <td>0.504456</td>\n",
       "      <td>1.325557</td>\n",
       "      <td>0.392932</td>\n",
       "      <td>0.558640</td>\n",
       "      <td>3.002131</td>\n",
       "      <td>1.113682</td>\n",
       "      <td>0.630832</td>\n",
       "      <td>-0.768215</td>\n",
       "    </tr>\n",
       "    <tr>\n",
       "      <th>22717</th>\n",
       "      <td>9</td>\n",
       "      <td>140272241</td>\n",
       "      <td>141272242</td>\n",
       "      <td>ENSG00000148408</td>\n",
       "      <td>-1.796682</td>\n",
       "      <td>0.777274</td>\n",
       "      <td>-0.647318</td>\n",
       "      <td>1.508732</td>\n",
       "      <td>-0.786396</td>\n",
       "      <td>0.141596</td>\n",
       "      <td>...</td>\n",
       "      <td>0.614517</td>\n",
       "      <td>0.107731</td>\n",
       "      <td>-0.364054</td>\n",
       "      <td>1.468048</td>\n",
       "      <td>0.053787</td>\n",
       "      <td>0.759220</td>\n",
       "      <td>-0.107731</td>\n",
       "      <td>0.371244</td>\n",
       "      <td>-0.258208</td>\n",
       "      <td>-0.314224</td>\n",
       "    </tr>\n",
       "  </tbody>\n",
       "</table>\n",
       "<p>13942 rows × 377 columns</p>\n",
       "</div>"
      ],
      "text/plain": [
       "      #chr      start        end          gene_id   HG00096   HG00097  \\\n",
       "44       1     360260    1360261  ENSG00000187634 -0.321292 -0.040332   \n",
       "45       1     379584    1379585  ENSG00000188976 -0.349730  0.155185   \n",
       "46       1     395967    1395968  ENSG00000187961 -1.831512  0.196136   \n",
       "47       1     401877    1401878  ENSG00000187583  2.176865 -0.244336   \n",
       "48       1     410579    1410580  ENSG00000187642 -1.574891 -0.209856   \n",
       "...    ...        ...        ...              ...       ...       ...   \n",
       "22711    9  139949356  140949357  ENSG00000148399  0.852202  0.639053   \n",
       "22712    9  139976531  140976532  ENSG00000165724 -0.073989 -0.400202   \n",
       "22713    9  140000106  141000107  ENSG00000197070 -0.094222 -0.265162   \n",
       "22715    9  140013444  141013445  ENSG00000181090 -0.932252 -1.263431   \n",
       "22717    9  140272241  141272242  ENSG00000148408 -1.796682  0.777274   \n",
       "\n",
       "        HG00099   HG00100   HG00101   HG00102  ...   NA20810   NA20811  \\\n",
       "44    -1.951999 -0.293111 -0.209856  0.697876  ... -2.110067  0.414806   \n",
       "45    -3.002131 -0.272129  0.385682 -0.932252  ... -2.255074  0.196136   \n",
       "46    -0.723832  0.265162  1.053253 -1.648765  ...  0.706475 -0.474156   \n",
       "47    -1.468048 -1.999295 -0.655627 -0.286103  ...  1.053253  1.868717   \n",
       "48    -0.871689 -0.777274 -1.448587 -0.921924  ... -0.786396  1.951999   \n",
       "...         ...       ...       ...       ...  ...       ...       ...   \n",
       "22711 -3.002131 -0.901557 -0.706475 -1.429659  ...  1.831512  0.279109   \n",
       "22712 -2.472829  2.650264 -0.293111 -2.051539  ...  1.951999  0.286103   \n",
       "22713 -1.552079  0.378453  1.248641 -0.067252  ... -0.622654  0.750285   \n",
       "22715 -2.110067 -0.265162 -1.126264 -0.842579  ...  1.488082  1.065028   \n",
       "22717 -0.647318  1.508732 -0.786396  0.141596  ...  0.614517  0.107731   \n",
       "\n",
       "        NA20812   NA20813   NA20814   NA20815   NA20816   NA20819   NA20826  \\\n",
       "44     1.411230  0.996443 -1.530046 -0.314224 -0.161990  0.335477  1.089033   \n",
       "45     2.051539 -0.155185 -0.209856  1.234120  0.759220  0.237418 -0.026884   \n",
       "46     0.542998  2.110067  0.141596 -0.422141  0.026884  1.358634 -0.871689   \n",
       "47     0.663981 -0.202991 -0.033607  1.139027 -1.219854  0.385682 -1.309549   \n",
       "48    -0.414806 -1.325557  0.496838  0.286103  0.512103  0.371244 -1.341912   \n",
       "...         ...       ...       ...       ...       ...       ...       ...   \n",
       "22711  0.371244 -1.448587  0.189289  1.278502  1.530046 -2.472829  0.481689   \n",
       "22712  2.110067 -1.030130 -1.598555  1.151979  1.508732  0.385682 -0.689328   \n",
       "22713  2.472829  0.293111 -0.655627 -0.335477  1.089033  2.255074  0.732593   \n",
       "22715  0.504456  1.325557  0.392932  0.558640  3.002131  1.113682  0.630832   \n",
       "22717 -0.364054  1.468048  0.053787  0.759220 -0.107731  0.371244 -0.258208   \n",
       "\n",
       "        NA20828  \n",
       "44    -0.614517  \n",
       "45    -0.094222  \n",
       "46    -0.598363  \n",
       "47     1.831512  \n",
       "48     0.614517  \n",
       "...         ...  \n",
       "22711  0.833034  \n",
       "22712 -0.013441  \n",
       "22713  0.321292  \n",
       "22715 -0.768215  \n",
       "22717 -0.314224  \n",
       "\n",
       "[13942 rows x 377 columns]"
      ]
     },
     "execution_count": 203,
     "metadata": {},
     "output_type": "execute_result"
    }
   ],
   "source": [
    "df_eur_protein"
   ]
  },
  {
   "cell_type": "code",
   "execution_count": 159,
   "metadata": {},
   "outputs": [],
   "source": [
    "df_eur_covar = pd.read_csv('./data/GEUVADIS_EUR_covariates.txt', sep='\\t')\n",
    "df_yri_covar = pd.read_csv('./data/GEUVADIS_YRI_covariates.txt', sep='\\t')\n",
    "\n",
    "df_eur_covar = df_eur_covar.T\n",
    "# make the first row the header\n",
    "new_header = df_eur_covar.iloc[0]\n",
    "df_eur_covar = df_eur_covar[1:]\n",
    "df_eur_covar.columns = new_header\n",
    "\n",
    "df_yri_covar = df_yri_covar.T\n",
    "# make the first row the header\n",
    "new_header = df_yri_covar.iloc[0]\n",
    "df_yri_covar = df_yri_covar[1:]\n",
    "df_yri_covar.columns = new_header"
   ]
  },
  {
   "cell_type": "code",
   "execution_count": 160,
   "metadata": {},
   "outputs": [],
   "source": [
    "df_eur_ge = df_eur_protein.iloc[:, 3:]\n",
    "df_eur_ge = df_eur_ge.T\n",
    "# make the first row the header\n",
    "new_header = df_eur_ge.iloc[0]\n",
    "df_eur_ge = df_eur_ge[1:]\n",
    "df_eur_ge.columns = new_header\n",
    "\n",
    "df_yri_ge = df_afr_protein.iloc[:, 3:]\n",
    "df_yri_ge = df_yri_ge.T\n",
    "# make the first row the header\n",
    "new_header = df_yri_ge.iloc[0]\n",
    "df_yri_ge = df_yri_ge[1:]\n",
    "df_yri_ge.columns = new_header"
   ]
  },
  {
   "cell_type": "code",
   "execution_count": 163,
   "metadata": {},
   "outputs": [],
   "source": [
    "# remove the index column name\n",
    "df_eur_ge = df_eur_ge.rename_axis(None, axis=1)\n",
    "df_eur_ge.index.name = 'ID'\n",
    "df_yri_ge = df_yri_ge.rename_axis(None, axis=1)\n",
    "df_yri_ge.index.name = 'ID'"
   ]
  },
  {
   "cell_type": "code",
   "execution_count": 164,
   "metadata": {},
   "outputs": [],
   "source": [
    "# merge the gene expression and covariates\n",
    "df_eur = pd.merge(df_eur_covar, df_eur_ge, left_index=True, right_index=True)\n",
    "df_yri = pd.merge(df_yri_covar, df_yri_ge, left_index=True, right_index=True)"
   ]
  },
  {
   "cell_type": "code",
   "execution_count": 169,
   "metadata": {},
   "outputs": [
    {
     "data": {
      "text/plain": [
       "'PC60'"
      ]
     },
     "execution_count": 169,
     "metadata": {},
     "output_type": "execute_result"
    }
   ],
   "source": [
    "df_eur.columns[65]"
   ]
  },
  {
   "cell_type": "code",
   "execution_count": 170,
   "metadata": {},
   "outputs": [
    {
     "name": "stderr",
     "output_type": "stream",
     "text": [
      "100%|██████████| 13942/13942 [05:24<00:00, 42.92it/s] \n"
     ]
    }
   ],
   "source": [
    "# regress covariates out of gene expression\n",
    "from sklearn.linear_model import LinearRegression\n",
    "\n",
    "# for each gene \n",
    "for gene in tqdm(df_eur.columns[66:]):\n",
    "    # regress out the covariates\n",
    "    reg = LinearRegression().fit(df_eur.iloc[:, :10], df_eur[gene])\n",
    "    df_eur[gene] = df_eur[gene] - reg.predict(df_eur.iloc[:, :10])\n",
    "    reg = LinearRegression().fit(df_yri.iloc[:, :10], df_yri[gene])\n",
    "    df_yri[gene] = df_yri[gene] - reg.predict(df_yri.iloc[:, :10])"
   ]
  },
  {
   "cell_type": "code",
   "execution_count": 178,
   "metadata": {},
   "outputs": [],
   "source": [
    "df_eur.iloc[:, 66:].to_csv('./data/GEUVADIS_EUR_ge_regressed.tsv.gz', sep='\\t')\n",
    "df_yri.iloc[:, 66:].to_csv('./data/GEUVADIS_YRI_ge_regressed.tsv.gz', sep='\\t')"
   ]
  },
  {
   "cell_type": "code",
   "execution_count": 206,
   "metadata": {},
   "outputs": [],
   "source": [
    "df_eur_protein_genes = df_eur_protein.iloc[:, :4]\n",
    "df_afr_protein_genes = df_afr_protein.iloc[:, :4]"
   ]
  },
  {
   "cell_type": "code",
   "execution_count": 209,
   "metadata": {},
   "outputs": [],
   "source": [
    "# change column names\n",
    "df_protein = df_protein.rename(columns={'geneId': 'gene_id'})"
   ]
  },
  {
   "cell_type": "code",
   "execution_count": 215,
   "metadata": {},
   "outputs": [],
   "source": [
    "df_eur_protein_genes = pd.merge(df_eur_protein_genes, df_protein[['name', 'gene_id']], on='gene_id', how='inner')"
   ]
  },
  {
   "cell_type": "code",
   "execution_count": 217,
   "metadata": {},
   "outputs": [],
   "source": [
    "df_afr_protein_genes = pd.merge(df_afr_protein_genes, df_protein[['name', 'gene_id']], on='gene_id', how='inner')"
   ]
  },
  {
   "cell_type": "code",
   "execution_count": 219,
   "metadata": {},
   "outputs": [],
   "source": [
    "df_afr_protein_genes.to_csv('./data/GEUVADIS_YRI_protein_genes.tsv.gz', sep='\\t', index=False)\n",
    "df_eur_protein_genes.to_csv('./data/GEUVADIS_EUR_protein_genes.tsv.gz', sep='\\t', index=False)"
   ]
  },
  {
   "cell_type": "code",
   "execution_count": null,
   "metadata": {},
   "outputs": [],
   "source": []
  },
  {
   "cell_type": "code",
   "execution_count": 10,
   "metadata": {},
   "outputs": [],
   "source": [
    "df_genes = pd.read_csv('./data/GEUVADIS_YRI_protein_genes.tsv.gz', sep='\\t')"
   ]
  },
  {
   "cell_type": "code",
   "execution_count": 14,
   "metadata": {},
   "outputs": [],
   "source": [
    "df_gwas = pd.read_csv('./data/GWAS_gene_hg19.tsv.gz', sep='\\t')"
   ]
  },
  {
   "cell_type": "code",
   "execution_count": 28,
   "metadata": {},
   "outputs": [
    {
     "data": {
      "text/plain": [
       "(31809,)"
      ]
     },
     "execution_count": 28,
     "metadata": {},
     "output_type": "execute_result"
    }
   ],
   "source": [
    "df_gwas['genes'].unique().shape"
   ]
  },
  {
   "cell_type": "code",
   "execution_count": 31,
   "metadata": {},
   "outputs": [],
   "source": [
    "df_genes[df_genes['name'].isin(df_gwas['genes'])].to_csv('./data/GEUVADIS_protein_genes_gwas.tsv.gz', sep='\\t', index=False)"
   ]
  },
  {
   "cell_type": "code",
   "execution_count": null,
   "metadata": {},
   "outputs": [],
   "source": []
  }
 ],
 "metadata": {
  "kernelspec": {
   "display_name": "base",
   "language": "python",
   "name": "python3"
  },
  "language_info": {
   "codemirror_mode": {
    "name": "ipython",
    "version": 3
   },
   "file_extension": ".py",
   "mimetype": "text/x-python",
   "name": "python",
   "nbconvert_exporter": "python",
   "pygments_lexer": "ipython3",
   "version": "3.11.3"
  }
 },
 "nbformat": 4,
 "nbformat_minor": 2
}
