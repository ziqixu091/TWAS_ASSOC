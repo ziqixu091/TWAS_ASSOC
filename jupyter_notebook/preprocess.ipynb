{
 "cells": [
  {
   "cell_type": "markdown",
   "metadata": {},
   "source": [
    "# Preprocess genotype data"
   ]
  },
  {
   "cell_type": "code",
   "execution_count": 7,
   "metadata": {},
   "outputs": [
    {
     "name": "stdout",
     "output_type": "stream",
     "text": [
      "CSV files have been generated successfully.\n"
     ]
    }
   ],
   "source": [
    "import vcf\n",
    "import csv\n",
    "import os\n",
    "\n",
    "# Directory containing VCF files\n",
    "vcf_dir = '/Users/itscclemon/Desktop/CSE 284/'\n",
    "\n",
    "# Output directory for CSV files\n",
    "csv_dir = '/Users/itscclemon/Desktop/CSE 284/'\n",
    "\n",
    "# Create the output directory if it doesn't exist\n",
    "if not os.path.exists(csv_dir):\n",
    "    os.makedirs(csv_dir)\n",
    "\n",
    "# Get a list of VCF files in the directory\n",
    "vcf_files = [f for f in os.listdir(vcf_dir) if f.endswith('.vcf')]\n",
    "\n",
    "for vcf_file in vcf_files:\n",
    "    vcf_path = os.path.join(vcf_dir, vcf_file)\n",
    "    csv_file = os.path.join(csv_dir, os.path.splitext(vcf_file)[0] + '_snp_individual_ids.csv')\n",
    "\n",
    "    with open(vcf_path, 'r') as vcf_input:\n",
    "        vcf_reader = vcf.Reader(vcf_input)\n",
    "        \n",
    "        # Extract individual IDs from the VCF header\n",
    "        individual_ids = vcf_reader.samples\n",
    "        \n",
    "        with open(csv_file, 'w', newline='') as csv_output:\n",
    "            csv_writer = csv.writer(csv_output)\n",
    "            \n",
    "            # Write header row with SNP ID and individual IDs\n",
    "            header_row = ['SNP_ID'] + individual_ids\n",
    "            csv_writer.writerow(header_row)\n",
    "            \n",
    "            # Iterate over each record in the VCF file\n",
    "            for record in vcf_reader:\n",
    "                # Extract SNP ID\n",
    "                snp_id = record.ID if record.ID else '.'\n",
    "                \n",
    "                # Extract genotype data for each individual\n",
    "                genotype_data = [record.genotype(individual_id).gt_bases for individual_id in individual_ids]\n",
    "                \n",
    "                # Write SNP ID and genotype data to CSV row\n",
    "                csv_writer.writerow([snp_id] + genotype_data)\n",
    "\n",
    "print(\"CSV files have been generated successfully.\")\n"
   ]
  }
 ],
 "metadata": {
  "kernelspec": {
   "display_name": "base",
   "language": "python",
   "name": "python3"
  },
  "language_info": {
   "codemirror_mode": {
    "name": "ipython",
    "version": 3
   },
   "file_extension": ".py",
   "mimetype": "text/x-python",
   "name": "python",
   "nbconvert_exporter": "python",
   "pygments_lexer": "ipython3",
   "version": "3.11.7"
  }
 },
 "nbformat": 4,
 "nbformat_minor": 2
}
