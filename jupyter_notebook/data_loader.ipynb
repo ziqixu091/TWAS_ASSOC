{
 "cells": [
  {
   "cell_type": "code",
   "execution_count": 1,
   "metadata": {},
   "outputs": [],
   "source": [
    "import pandas as pd\n",
    "import numpy as np\n",
    "\n",
    "import os\n",
    "import sys\n",
    "from typing import List, Tuple, Dict, Any, Optional\n",
    "import pickle\n",
    "\n",
    "os.chdir('/Users/xbh0403/Desktop/TWAS_ASSOC')\n",
    "\n",
    "from sklearn import linear_model\n",
    "from sklearn.preprocessing import StandardScaler\n",
    "from sklearn.model_selection import train_test_split\n",
    "\n",
    "from pyplink import PyPlink"
   ]
  },
  {
   "cell_type": "code",
   "execution_count": 2,
   "metadata": {},
   "outputs": [
    {
     "name": "stdout",
     "output_type": "stream",
     "text": [
      "Shapes of the dataframes: (373, 13942) (89, 13942) (13942, 5) (13942, 5)\n"
     ]
    }
   ],
   "source": [
    "def load_data():\n",
    "    EUR_ge_regressed = pd.read_csv(\"./project_data/GEUVADIS_EUR_ge_regressed.tsv.gz\", sep=\"\\t\", index_col=0, compression=\"gzip\")\n",
    "    YRI_ge_regressed = pd.read_csv(\"./project_data/GEUVADIS_YRI_ge_regressed.tsv.gz\", sep=\"\\t\", index_col=0, compression=\"gzip\")\n",
    "\n",
    "    EUR_protein_genes = pd.read_csv(\"./project_data/GEUVADIS_EUR_protein_genes.tsv.gz\", sep=\"\\t\", index_col=0, compression=\"gzip\")\n",
    "    EUR_protein_genes[\"chr\"] = EUR_protein_genes.index\n",
    "    EUR_protein_genes.reset_index(drop=True, inplace=True)\n",
    "    YRI_protein_genes = pd.read_csv(\"./project_data/GEUVADIS_YRI_protein_genes.tsv.gz\", sep=\"\\t\", index_col=0, compression=\"gzip\")\n",
    "    YRI_protein_genes[\"chr\"] = YRI_protein_genes.index\n",
    "    YRI_protein_genes.reset_index(drop=True, inplace=True)\n",
    "\n",
    "    print(\"Shapes of the dataframes:\", EUR_ge_regressed.shape, YRI_ge_regressed.shape, EUR_protein_genes.shape, YRI_protein_genes.shape)\n",
    "\n",
    "    return EUR_ge_regressed, YRI_ge_regressed, EUR_protein_genes, YRI_protein_genes\n",
    "\n",
    "EUR_ge_regressed, YRI_ge_regressed, EUR_protein_genes, YRI_protein_genes = load_data()"
   ]
  },
  {
   "cell_type": "code",
   "execution_count": 3,
   "metadata": {},
   "outputs": [],
   "source": [
    "def find_snps_in_gene(chr_num: int, start: int, end: int, ancsetry: str) -> pd.DataFrame:\n",
    "    \"\"\"\n",
    "    Find SNPs within a specified genomic region.\n",
    "\n",
    "    Parameters:\n",
    "    chr_num (int): Chromosome number.\n",
    "    start (int): Start position of the genomic region.\n",
    "    end (int): End position of the genomic region.\n",
    "    bim (pd.DataFrame): DataFrame containing SNP information.\n",
    "\n",
    "    Returns:\n",
    "    pd.DataFrame: DataFrame containing SNPs within the specified genomic region.\n",
    "    \n",
    "    \"\"\"\n",
    "    with PyPlink(\"./project_data/geno/\"+ancsetry+\"/GEUVADIS_\"+ancsetry+\"_chr\"+str(chr_num)) as bed:\n",
    "        # Getting the BIM and FAM\n",
    "        bim = bed.get_bim()\n",
    "        bim[\"snp\"] = bim.index\n",
    "        bim.reset_index(drop=True, inplace=True)\n",
    "        bim = bim[[\"snp\", \"chrom\", \"pos\", \"cm\", \"a1\", \"a2\"]]\n",
    "    return bim[(bim[\"pos\"] >= start) & (bim[\"pos\"] <= end)]"
   ]
  },
  {
   "cell_type": "code",
   "execution_count": 4,
   "metadata": {},
   "outputs": [],
   "source": [
    "def process_geno(ancsetry: str, chr_num: int, snps: List[str], start: int, gene_id: str, save_result: bool = False) -> np.ndarray:\n",
    "    \"\"\"\n",
    "    Process the genotype data.\n",
    "\n",
    "    Parameters:\n",
    "    ancsetry (str): Ancestry of the individual.\n",
    "    chr_num (int): Chromosome number.\n",
    "    individual (str | None): Individual ID.\n",
    "    snps (List[str]): List of SNPs.\n",
    "\n",
    "    Returns:\n",
    "    pd.DataFrame: Processed genotype data.\n",
    "    \"\"\"\n",
    "    if len(snps) == 0:\n",
    "        raise ValueError(\"No SNPs provided.\")\n",
    "    \n",
    "    with PyPlink(\"./project_data/geno/\"+ancsetry+\"/GEUVADIS_\"+ancsetry+\"_chr\"+str(chr_num)) as bed:\n",
    "        # Getting the BIM and FAM\n",
    "        bim = bed.get_bim()\n",
    "        bim[\"snp\"] = bim.index\n",
    "        bim.reset_index(drop=True, inplace=True)\n",
    "        bim = bim[[\"snp\", \"chrom\", \"pos\", \"cm\", \"a1\", \"a2\"]]\n",
    "        snp_info = bim[bim[\"snp\"].isin(snps)]\n",
    "\n",
    "        fam = bed.get_fam()\n",
    "        iids = fam[\"iid\"].tolist()\n",
    "\n",
    "        results = {\n",
    "            \"snp_info\": snp_info,\n",
    "            \"iids\": iids,\n",
    "        }\n",
    "\n",
    "        keep_bool = [1] * len(iids)\n",
    "\n",
    "        for snp_id, genotypes in bed.iter_geno_marker(snps):\n",
    "            results[snp_id] = genotypes\n",
    "            genotypes_kept = [0 if x == -1 else 1 for x in genotypes]\n",
    "            keep_bool = [x*y for x, y in zip(keep_bool, genotypes_kept)]\n",
    "\n",
    "        results[\"keep_bool\"] = keep_bool\n",
    "\n",
    "        for snp_id, genotypes in bed.iter_geno_marker(snps):\n",
    "            results[snp_id+\"_filtered\"] = [x for x, y in zip(genotypes, keep_bool) if y == 1]\n",
    "        \n",
    "        results[\"iids_filtered\"] = [x for x, y in zip(iids, keep_bool) if y == 1]\n",
    "\n",
    "        X = np.zeros((len(results[\"iids_filtered\"]), snp_info.shape[0]))\n",
    "\n",
    "        for i in range(snp_info.shape[0]):\n",
    "            X[:, i] = results[snps[i]+\"_filtered\"]\n",
    "\n",
    "        if save_result:\n",
    "            with open(\"./project_data/processed_Xy/\"+gene_id+\"_results.pkl\", \"wb\") as f:\n",
    "                pickle.dump(results, f)\n",
    "            # save x as npy\n",
    "            np.save(\"./project_data/processed_Xy/X/\"+gene_id+\"_X.npy\", X)\n",
    "\n",
    "        return results, X"
   ]
  },
  {
   "cell_type": "code",
   "execution_count": 5,
   "metadata": {},
   "outputs": [],
   "source": [
    "def get_y(gene_id: str, iids: List[str], y_full_df: pd.DataFrame = EUR_ge_regressed, save_y: bool = False) -> np.ndarray:\n",
    "    \"\"\"\n",
    "    Get the Y values for a specific gene and ancestry.\n",
    "\n",
    "    Parameters:\n",
    "    gene_id (str): Gene ID.\n",
    "    iids (List[str]): List of individual IDs.\n",
    "    y_full_df (pd.DataFrame): DataFrame containing the Y values.\n",
    "\n",
    "    Returns:\n",
    "    np.ndarray: Array of Y values for the specified gene and ancestry.\n",
    "    \"\"\"\n",
    "    all_columns = y_full_df.columns\n",
    "    id_gene = all_columns.get_loc(gene_id)\n",
    "    all_individuals = y_full_df.index\n",
    "    iids_keep = [True if x in iids else False for x in all_individuals]\n",
    "    y = y_full_df.iloc[iids_keep, id_gene].values\n",
    "    if save_y:\n",
    "        np.save(\"./project_data/processed_Xy/y/\"+gene_id+\"_y.npy\", y)\n",
    "    return y"
   ]
  },
  {
   "cell_type": "code",
   "execution_count": 6,
   "metadata": {},
   "outputs": [],
   "source": [
    "def process_one_gene(gene_id: str, protein_genes: pd.DataFrame, ancsetry: str) -> np.ndarray:\n",
    "    gene = protein_genes[protein_genes[\"gene_id\"] == gene_id]\n",
    "    assert gene.shape[0] == 1\n",
    "    chr_num = gene[\"chr\"].values[0]\n",
    "    start = gene[\"start\"].values[0]\n",
    "    end = gene[\"end\"].values[0]\n",
    "    gene_name = gene[\"name\"].values[0]\n",
    "    print(\"Gene id: \", gene_id, \" Gene name: \", gene_name, \" Chr: \", chr_num, \" Start: \", start, \" End: \", end)\n",
    "    \n",
    "    snps = find_snps_in_gene(chr_num, start, end, ancsetry)\n",
    "    snps_name = snps[\"snp\"].tolist()\n",
    "    print(\"Number of SNPs: \", len(snps_name))\n",
    "    processed_geno, X = process_geno(ancsetry, chr_num, snps_name, start, gene_id, save_result=True)\n",
    "    y = get_y(gene_id, processed_geno[\"iids_filtered\"], save_y=True)\n",
    "    return processed_geno, X, y"
   ]
  },
  {
   "cell_type": "code",
   "execution_count": 9,
   "metadata": {},
   "outputs": [
    {
     "data": {
      "text/html": [
       "<div>\n",
       "<style scoped>\n",
       "    .dataframe tbody tr th:only-of-type {\n",
       "        vertical-align: middle;\n",
       "    }\n",
       "\n",
       "    .dataframe tbody tr th {\n",
       "        vertical-align: top;\n",
       "    }\n",
       "\n",
       "    .dataframe thead th {\n",
       "        text-align: right;\n",
       "    }\n",
       "</style>\n",
       "<table border=\"1\" class=\"dataframe\">\n",
       "  <thead>\n",
       "    <tr style=\"text-align: right;\">\n",
       "      <th></th>\n",
       "      <th>start</th>\n",
       "      <th>end</th>\n",
       "      <th>gene_id</th>\n",
       "      <th>name</th>\n",
       "      <th>chr</th>\n",
       "    </tr>\n",
       "  </thead>\n",
       "  <tbody>\n",
       "    <tr>\n",
       "      <th>0</th>\n",
       "      <td>360260</td>\n",
       "      <td>1360261</td>\n",
       "      <td>ENSG00000187634</td>\n",
       "      <td>SAMD11</td>\n",
       "      <td>1</td>\n",
       "    </tr>\n",
       "  </tbody>\n",
       "</table>\n",
       "</div>"
      ],
      "text/plain": [
       "    start      end          gene_id    name  chr\n",
       "0  360260  1360261  ENSG00000187634  SAMD11    1"
      ]
     },
     "execution_count": 9,
     "metadata": {},
     "output_type": "execute_result"
    }
   ],
   "source": [
    "EUR_protein_genes[EUR_protein_genes[\"gene_id\"] == \"ENSG00000187634\"]"
   ]
  },
  {
   "cell_type": "code",
   "execution_count": 43,
   "metadata": {},
   "outputs": [
    {
     "name": "stdout",
     "output_type": "stream",
     "text": [
      "Gene id:  ENSG00000215784  Gene name:  FAM72D  Chr:  1  Start:  143396452  End:  144396453\n",
      "Number of SNPs:  0\n"
     ]
    },
    {
     "ename": "ValueError",
     "evalue": "No SNPs provided.",
     "output_type": "error",
     "traceback": [
      "\u001b[0;31m---------------------------------------------------------------------------\u001b[0m",
      "\u001b[0;31mValueError\u001b[0m                                Traceback (most recent call last)",
      "Cell \u001b[0;32mIn[43], line 6\u001b[0m\n\u001b[1;32m      1\u001b[0m \u001b[38;5;66;03m# one_gene_result, X, y = process_one_gene(\"ENSG00000187634\", EUR_protein_genes, \"EUR\")\u001b[39;00m\n\u001b[1;32m      2\u001b[0m \u001b[38;5;66;03m# one_gene_result, X, y = process_one_gene(\"ENSG00000187642\", EUR_protein_genes, \"EUR\")\u001b[39;00m\n\u001b[1;32m      3\u001b[0m \u001b[38;5;66;03m# one_gene_result, X, y = process_one_gene(\"ENSG00000187583\", EUR_protein_genes, \"EUR\")\u001b[39;00m\n\u001b[1;32m      4\u001b[0m \u001b[38;5;66;03m# one_gene_result, X, y = process_one_gene(\"ENSG00000187961\", EUR_protein_genes, \"EUR\")\u001b[39;00m\n\u001b[1;32m      5\u001b[0m \u001b[38;5;66;03m# one_gene_result, X, y = process_one_gene(\"ENSG00000144182\", EUR_protein_genes, \"EUR\")\u001b[39;00m\n\u001b[0;32m----> 6\u001b[0m one_gene_result, X, y \u001b[38;5;241m=\u001b[39m \u001b[43mprocess_one_gene\u001b[49m\u001b[43m(\u001b[49m\u001b[38;5;124;43m\"\u001b[39;49m\u001b[38;5;124;43mENSG00000215784\u001b[39;49m\u001b[38;5;124;43m\"\u001b[39;49m\u001b[43m,\u001b[49m\u001b[43m \u001b[49m\u001b[43mEUR_protein_genes\u001b[49m\u001b[43m,\u001b[49m\u001b[43m \u001b[49m\u001b[38;5;124;43m\"\u001b[39;49m\u001b[38;5;124;43mEUR\u001b[39;49m\u001b[38;5;124;43m\"\u001b[39;49m\u001b[43m)\u001b[49m\n",
      "Cell \u001b[0;32mIn[6], line 13\u001b[0m, in \u001b[0;36mprocess_one_gene\u001b[0;34m(gene_id, protein_genes, ancsetry)\u001b[0m\n\u001b[1;32m     11\u001b[0m snps_name \u001b[38;5;241m=\u001b[39m snps[\u001b[38;5;124m\"\u001b[39m\u001b[38;5;124msnp\u001b[39m\u001b[38;5;124m\"\u001b[39m]\u001b[38;5;241m.\u001b[39mtolist()\n\u001b[1;32m     12\u001b[0m \u001b[38;5;28mprint\u001b[39m(\u001b[38;5;124m\"\u001b[39m\u001b[38;5;124mNumber of SNPs: \u001b[39m\u001b[38;5;124m\"\u001b[39m, \u001b[38;5;28mlen\u001b[39m(snps_name))\n\u001b[0;32m---> 13\u001b[0m processed_geno, X \u001b[38;5;241m=\u001b[39m \u001b[43mprocess_geno\u001b[49m\u001b[43m(\u001b[49m\u001b[43mancsetry\u001b[49m\u001b[43m,\u001b[49m\u001b[43m \u001b[49m\u001b[43mchr_num\u001b[49m\u001b[43m,\u001b[49m\u001b[43m \u001b[49m\u001b[43msnps_name\u001b[49m\u001b[43m,\u001b[49m\u001b[43m \u001b[49m\u001b[43mstart\u001b[49m\u001b[43m,\u001b[49m\u001b[43m \u001b[49m\u001b[43mgene_id\u001b[49m\u001b[43m,\u001b[49m\u001b[43m \u001b[49m\u001b[43msave_result\u001b[49m\u001b[38;5;241;43m=\u001b[39;49m\u001b[38;5;28;43;01mTrue\u001b[39;49;00m\u001b[43m)\u001b[49m\n\u001b[1;32m     14\u001b[0m y \u001b[38;5;241m=\u001b[39m get_y(gene_id, processed_geno[\u001b[38;5;124m\"\u001b[39m\u001b[38;5;124miids_filtered\u001b[39m\u001b[38;5;124m\"\u001b[39m], save_y\u001b[38;5;241m=\u001b[39m\u001b[38;5;28;01mTrue\u001b[39;00m)\n\u001b[1;32m     15\u001b[0m \u001b[38;5;28;01mreturn\u001b[39;00m processed_geno, X, y\n",
      "Cell \u001b[0;32mIn[4], line 15\u001b[0m, in \u001b[0;36mprocess_geno\u001b[0;34m(ancsetry, chr_num, snps, start, gene_id, save_result)\u001b[0m\n\u001b[1;32m      2\u001b[0m \u001b[38;5;250m\u001b[39m\u001b[38;5;124;03m\"\"\"\u001b[39;00m\n\u001b[1;32m      3\u001b[0m \u001b[38;5;124;03mProcess the genotype data.\u001b[39;00m\n\u001b[1;32m      4\u001b[0m \n\u001b[0;32m   (...)\u001b[0m\n\u001b[1;32m     12\u001b[0m \u001b[38;5;124;03mpd.DataFrame: Processed genotype data.\u001b[39;00m\n\u001b[1;32m     13\u001b[0m \u001b[38;5;124;03m\"\"\"\u001b[39;00m\n\u001b[1;32m     14\u001b[0m \u001b[38;5;28;01mif\u001b[39;00m \u001b[38;5;28mlen\u001b[39m(snps) \u001b[38;5;241m==\u001b[39m \u001b[38;5;241m0\u001b[39m:\n\u001b[0;32m---> 15\u001b[0m     \u001b[38;5;28;01mraise\u001b[39;00m \u001b[38;5;167;01mValueError\u001b[39;00m(\u001b[38;5;124m\"\u001b[39m\u001b[38;5;124mNo SNPs provided.\u001b[39m\u001b[38;5;124m\"\u001b[39m)\n\u001b[1;32m     17\u001b[0m \u001b[38;5;28;01mwith\u001b[39;00m PyPlink(\u001b[38;5;124m\"\u001b[39m\u001b[38;5;124m./project_data/geno/\u001b[39m\u001b[38;5;124m\"\u001b[39m\u001b[38;5;241m+\u001b[39mancsetry\u001b[38;5;241m+\u001b[39m\u001b[38;5;124m\"\u001b[39m\u001b[38;5;124m/GEUVADIS_\u001b[39m\u001b[38;5;124m\"\u001b[39m\u001b[38;5;241m+\u001b[39mancsetry\u001b[38;5;241m+\u001b[39m\u001b[38;5;124m\"\u001b[39m\u001b[38;5;124m_chr\u001b[39m\u001b[38;5;124m\"\u001b[39m\u001b[38;5;241m+\u001b[39m\u001b[38;5;28mstr\u001b[39m(chr_num)) \u001b[38;5;28;01mas\u001b[39;00m bed:\n\u001b[1;32m     18\u001b[0m     \u001b[38;5;66;03m# Getting the BIM and FAM\u001b[39;00m\n\u001b[1;32m     19\u001b[0m     bim \u001b[38;5;241m=\u001b[39m bed\u001b[38;5;241m.\u001b[39mget_bim()\n",
      "\u001b[0;31mValueError\u001b[0m: No SNPs provided."
     ]
    }
   ],
   "source": [
    "# one_gene_result, X, y = process_one_gene(\"ENSG00000187634\", EUR_protein_genes, \"EUR\")\n",
    "# one_gene_result, X, y = process_one_gene(\"ENSG00000187642\", EUR_protein_genes, \"EUR\")\n",
    "# one_gene_result, X, y = process_one_gene(\"ENSG00000187583\", EUR_protein_genes, \"EUR\")\n",
    "# one_gene_result, X, y = process_one_gene(\"ENSG00000187961\", EUR_protein_genes, \"EUR\")\n",
    "# one_gene_result, X, y = process_one_gene(\"ENSG00000144182\", EUR_protein_genes, \"EUR\")\n",
    "one_gene_result, X, y = process_one_gene(\"ENSG00000215784\", EUR_protein_genes, \"EUR\")"
   ]
  },
  {
   "cell_type": "code",
   "execution_count": 37,
   "metadata": {},
   "outputs": [],
   "source": [
    "def standardize(X: np.ndarray) -> np.ndarray:\n",
    "    \"\"\"\n",
    "    Standardize the X matrix.\n",
    "\n",
    "    Parameters:\n",
    "    X (np.ndarray): X matrix.\n",
    "\n",
    "    Returns:\n",
    "    np.ndarray: Standardized X matrix.\n",
    "    \"\"\"\n",
    "    mean = np.mean(X, axis=0)\n",
    "    std = np.std(X, axis=0)\n",
    "    X = [(X[i, :] - mean) / std for i in range(X.shape[0]) if std[i] != 0]\n",
    "    return X"
   ]
  },
  {
   "cell_type": "code",
   "execution_count": 41,
   "metadata": {},
   "outputs": [],
   "source": [
    "from sklearn.preprocessing import StandardScaler\n",
    "X_std = StandardScaler().fit_transform(X)\n",
    "X_train, X_test, y_train, y_test = train_test_split(X_std, y, test_size=0.2, random_state=42)"
   ]
  },
  {
   "cell_type": "code",
   "execution_count": 13,
   "metadata": {},
   "outputs": [
    {
     "name": "stdout",
     "output_type": "stream",
     "text": [
      "Mean squared error:  0.5590618915480747\n",
      "Mean squared error:  3.664491328632582e+26\n"
     ]
    }
   ],
   "source": [
    "# Linear regression\n",
    "reg = linear_model.LinearRegression()\n",
    "reg.fit(X_train, y_train)\n",
    "y_pred = reg.predict(X_test)\n",
    "y_pred_train = reg.predict(X_train)\n",
    "print(\"Mean squared error: \", np.mean((y_train - y_pred_train)**2))\n",
    "print(\"Mean squared error: \", np.mean((y_pred - y_test)**2))"
   ]
  },
  {
   "cell_type": "code",
   "execution_count": 42,
   "metadata": {},
   "outputs": [
    {
     "name": "stdout",
     "output_type": "stream",
     "text": [
      "0.0547717003348378\n",
      "-0.03334031889004696\n"
     ]
    }
   ],
   "source": [
    "lasso = linear_model.Lasso(alpha=0.1, max_iter=1000000)\n",
    "lasso.fit(X_train, y_train)\n",
    "print(lasso.score(X_train, y_train))\n",
    "print(lasso.score(X_test, y_test))"
   ]
  }
 ],
 "metadata": {
  "kernelspec": {
   "display_name": "Python 3 (ipykernel)",
   "language": "python",
   "name": "python3"
  },
  "language_info": {
   "codemirror_mode": {
    "name": "ipython",
    "version": 3
   },
   "file_extension": ".py",
   "mimetype": "text/x-python",
   "name": "python",
   "nbconvert_exporter": "python",
   "pygments_lexer": "ipython3",
   "version": "3.10.13"
  }
 },
 "nbformat": 4,
 "nbformat_minor": 2
}
