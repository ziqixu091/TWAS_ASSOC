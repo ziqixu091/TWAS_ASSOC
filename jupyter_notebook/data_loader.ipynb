{
 "cells": [
  {
   "cell_type": "code",
   "execution_count": 45,
   "metadata": {},
   "outputs": [
    {
     "name": "stdout",
     "output_type": "stream",
     "text": [
      "False\n"
     ]
    }
   ],
   "source": [
    "import pandas as pd\n",
    "import numpy as np\n",
    "\n",
    "import torch\n",
    "print(torch.cuda.is_available())\n",
    "\n",
    "import os\n",
    "import sys\n",
    "from typing import List, Tuple, Dict, Any, Optional\n",
    "import pickle\n",
    "\n",
    "os.chdir('/Users/xbh0403/Desktop/TWAS_ASSOC')\n",
    "\n",
    "from pyplink import PyPlink"
   ]
  },
  {
   "cell_type": "code",
   "execution_count": 16,
   "metadata": {},
   "outputs": [
    {
     "name": "stdout",
     "output_type": "stream",
     "text": [
      "Shapes of the dataframes: (373, 13942) (89, 13942) (13942, 5) (13942, 5)\n"
     ]
    }
   ],
   "source": [
    "def load_data():\n",
    "    EUR_ge_regressed = pd.read_csv(\"./project_data/GEUVADIS_EUR_ge_regressed.tsv.gz\", sep=\"\\t\", index_col=0, compression=\"gzip\")\n",
    "    YRI_ge_regressed = pd.read_csv(\"./project_data/GEUVADIS_YRI_ge_regressed.tsv.gz\", sep=\"\\t\", index_col=0, compression=\"gzip\")\n",
    "\n",
    "    EUR_protein_genes = pd.read_csv(\"./project_data/GEUVADIS_EUR_protein_genes.tsv.gz\", sep=\"\\t\", index_col=0, compression=\"gzip\")\n",
    "    EUR_protein_genes[\"chr\"] = EUR_protein_genes.index\n",
    "    EUR_protein_genes.reset_index(drop=True, inplace=True)\n",
    "    YRI_protein_genes = pd.read_csv(\"./project_data/GEUVADIS_YRI_protein_genes.tsv.gz\", sep=\"\\t\", index_col=0, compression=\"gzip\")\n",
    "    YRI_protein_genes[\"chr\"] = YRI_protein_genes.index\n",
    "    YRI_protein_genes.reset_index(drop=True, inplace=True)\n",
    "\n",
    "    print(\"Shapes of the dataframes:\", EUR_ge_regressed.shape, YRI_ge_regressed.shape, EUR_protein_genes.shape, YRI_protein_genes.shape)\n",
    "\n",
    "    # with PyPlink(\"./project_data/geno/\"+ancsetry+\"/GEUVADIS_EUR_\"+chr_num) as bed:\n",
    "    #     # Getting the BIM and FAM\n",
    "    #     bim = bed.get_bim()\n",
    "    #     fam = bed.get_fam()\n",
    "\n",
    "    return EUR_ge_regressed, YRI_ge_regressed, EUR_protein_genes, YRI_protein_genes\n",
    "\n",
    "EUR_ge_regressed, YRI_ge_regressed, EUR_protein_genes, YRI_protein_genes = load_data()"
   ]
  },
  {
   "cell_type": "code",
   "execution_count": 18,
   "metadata": {},
   "outputs": [],
   "source": [
    "def find_snps_in_gene(chr_num: int, start: int, end: int, ancsetry: str) -> pd.DataFrame:\n",
    "    \"\"\"\n",
    "    Find SNPs within a specified genomic region.\n",
    "\n",
    "    Parameters:\n",
    "    chr_num (int): Chromosome number.\n",
    "    start (int): Start position of the genomic region.\n",
    "    end (int): End position of the genomic region.\n",
    "    bim (pd.DataFrame): DataFrame containing SNP information.\n",
    "\n",
    "    Returns:\n",
    "    pd.DataFrame: DataFrame containing SNPs within the specified genomic region.\n",
    "    \n",
    "    \"\"\"\n",
    "    with PyPlink(\"./project_data/geno/\"+ancsetry+\"/GEUVADIS_\"+ancsetry+\"_chr\"+str(chr_num)) as bed:\n",
    "        # Getting the BIM and FAM\n",
    "        bim = bed.get_bim()\n",
    "        bim[\"snp\"] = bim.index\n",
    "        bim.reset_index(drop=True, inplace=True)\n",
    "        bim = bim[[\"snp\", \"chrom\", \"pos\", \"cm\", \"a1\", \"a2\"]]\n",
    "    return bim[(bim[\"pos\"] >= start) & (bim[\"pos\"] <= end)]"
   ]
  },
  {
   "cell_type": "code",
   "execution_count": 55,
   "metadata": {},
   "outputs": [],
   "source": [
    "def process_geno(ancsetry: str, chr_num: int, snps: List[str], start: int, gene_id: str, save_result: bool = False) -> np.ndarray:\n",
    "    \"\"\"\n",
    "    Process the genotype data.\n",
    "\n",
    "    Parameters:\n",
    "    ancsetry (str): Ancestry of the individual.\n",
    "    chr_num (int): Chromosome number.\n",
    "    individual (str | None): Individual ID.\n",
    "    snps (List[str]): List of SNPs.\n",
    "\n",
    "    Returns:\n",
    "    pd.DataFrame: Processed genotype data.\n",
    "    \"\"\"\n",
    "    if len(snps) == 0:\n",
    "        raise ValueError(\"No SNPs provided.\")\n",
    "    \n",
    "    with PyPlink(\"./project_data/geno/\"+ancsetry+\"/GEUVADIS_\"+ancsetry+\"_chr\"+str(chr_num)) as bed:\n",
    "        # Getting the BIM and FAM\n",
    "        bim = bed.get_bim()\n",
    "        bim[\"snp\"] = bim.index\n",
    "        bim.reset_index(drop=True, inplace=True)\n",
    "        bim = bim[[\"snp\", \"chrom\", \"pos\", \"cm\", \"a1\", \"a2\"]]\n",
    "        snp_info = bim[bim[\"snp\"].isin(snps)]\n",
    "\n",
    "        fam = bed.get_fam()\n",
    "        iids = fam[\"iid\"].tolist()\n",
    "\n",
    "        results = {\n",
    "            \"snp_info\": snp_info,\n",
    "            \"iids\": iids,\n",
    "        }\n",
    "\n",
    "        keep_bool = [1] * len(iids)\n",
    "\n",
    "        for snp_id, genotypes in bed.iter_geno_marker(snps):\n",
    "            results[snp_id] = genotypes\n",
    "            genotypes_kept = [0 if x == -1 else 1 for x in genotypes]\n",
    "            keep_bool = [x*y for x, y in zip(keep_bool, genotypes_kept)]\n",
    "\n",
    "        results[\"keep_bool\"] = keep_bool\n",
    "\n",
    "        for snp_id, genotypes in bed.iter_geno_marker(snps):\n",
    "            results[snp_id+\"_filtered\"] = [x for x, y in zip(genotypes, keep_bool) if y == 1]\n",
    "        \n",
    "        results[\"iids_filtered\"] = [x for x, y in zip(iids, keep_bool) if y == 1]\n",
    "\n",
    "        X = np.zeros((len(results[\"iids_filtered\"]), 1000000))\n",
    "\n",
    "        for snp in snps:\n",
    "            snp_pos = snp_info[snp_info[\"snp\"] == snp][\"pos\"].values[0]\n",
    "            snp_pos_offset = snp_pos - start\n",
    "            X[:, snp_pos_offset] = results[snp+\"_filtered\"]\n",
    "\n",
    "        if save_result:\n",
    "            with open(\"./project_data/processed_Xy/\"+gene_id+\"_results.pkl\", \"wb\") as f:\n",
    "                pickle.dump(results, f)\n",
    "            # save x as npy\n",
    "            np.save(\"./project_data/processed_Xy/X/\"+gene_id+\"_X.npy\", X)\n",
    "\n",
    "        return results, X"
   ]
  },
  {
   "cell_type": "code",
   "execution_count": 59,
   "metadata": {},
   "outputs": [],
   "source": [
    "def get_y(gene_id: str, iids: List[str], y_full_df: pd.DataFrame = EUR_ge_regressed, save_y: bool = False) -> np.ndarray:\n",
    "    \"\"\"\n",
    "    Get the Y values for a specific gene and ancestry.\n",
    "\n",
    "    Parameters:\n",
    "    gene_id (str): Gene ID.\n",
    "    iids (List[str]): List of individual IDs.\n",
    "    y_full_df (pd.DataFrame): DataFrame containing the Y values.\n",
    "\n",
    "    Returns:\n",
    "    np.ndarray: Array of Y values for the specified gene and ancestry.\n",
    "    \"\"\"\n",
    "    all_columns = y_full_df.columns\n",
    "    id_gene = all_columns.get_loc(gene_id)\n",
    "    all_individuals = y_full_df.index\n",
    "    iids_keep = [True if x in iids else False for x in all_individuals]\n",
    "    y = y_full_df.iloc[iids_keep, id_gene].values\n",
    "    if save_y:\n",
    "        np.save(\"./project_data/processed_Xy/y/\"+gene_id+\"_y.npy\", y)\n",
    "    return y"
   ]
  },
  {
   "cell_type": "code",
   "execution_count": 61,
   "metadata": {},
   "outputs": [],
   "source": [
    "def process_one_gene(gene_id: str, protein_genes: pd.DataFrame, ancsetry: str) -> np.ndarray:\n",
    "    gene = protein_genes[protein_genes[\"gene_id\"] == gene_id]\n",
    "    assert gene.shape[0] == 1\n",
    "    chr_num = gene[\"chr\"].values[0]\n",
    "    start = gene[\"start\"].values[0]\n",
    "    end = gene[\"end\"].values[0]\n",
    "    gene_name = gene[\"name\"].values[0]\n",
    "    print(\"Gene id: \", gene_id, \" Gene name: \", gene_name, \" Chr: \", chr_num, \" Start: \", start, \" End: \", end)\n",
    "    \n",
    "    snps = find_snps_in_gene(chr_num, start, end, ancsetry)\n",
    "    snps_name = snps[\"snp\"].tolist()\n",
    "    print(\"Number of SNPs: \", len(snps_name))\n",
    "    processed_geno, X = process_geno(ancsetry, chr_num, snps_name, start, gene_id, save_result=True)\n",
    "    y = get_y(gene_id, processed_geno[\"iids_filtered\"], save_y=True)\n",
    "    return processed_geno, X, y"
   ]
  },
  {
   "cell_type": "code",
   "execution_count": 62,
   "metadata": {},
   "outputs": [
    {
     "name": "stdout",
     "output_type": "stream",
     "text": [
      "Gene id:  ENSG00000187634  Gene name:  SAMD11  Chr:  1  Start:  360260  End:  1360261\n",
      "Number of SNPs:  137\n"
     ]
    }
   ],
   "source": [
    "one_gene_result, X, y = process_one_gene(\"ENSG00000187634\", EUR_protein_genes, \"EUR\")"
   ]
  },
  {
   "cell_type": "code",
   "execution_count": 82,
   "metadata": {},
   "outputs": [
    {
     "data": {
      "text/html": [
       "<div>\n",
       "<style scoped>\n",
       "    .dataframe tbody tr th:only-of-type {\n",
       "        vertical-align: middle;\n",
       "    }\n",
       "\n",
       "    .dataframe tbody tr th {\n",
       "        vertical-align: top;\n",
       "    }\n",
       "\n",
       "    .dataframe thead th {\n",
       "        text-align: right;\n",
       "    }\n",
       "</style>\n",
       "<table border=\"1\" class=\"dataframe\">\n",
       "  <thead>\n",
       "    <tr style=\"text-align: right;\">\n",
       "      <th></th>\n",
       "      <th>snp</th>\n",
       "      <th>chrom</th>\n",
       "      <th>pos</th>\n",
       "      <th>cm</th>\n",
       "      <th>a1</th>\n",
       "      <th>a2</th>\n",
       "    </tr>\n",
       "  </thead>\n",
       "  <tbody>\n",
       "    <tr>\n",
       "      <th>0</th>\n",
       "      <td>rs3131972</td>\n",
       "      <td>1</td>\n",
       "      <td>752721</td>\n",
       "      <td>0</td>\n",
       "      <td>A</td>\n",
       "      <td>G</td>\n",
       "    </tr>\n",
       "    <tr>\n",
       "      <th>1</th>\n",
       "      <td>rs3131969</td>\n",
       "      <td>1</td>\n",
       "      <td>754182</td>\n",
       "      <td>0</td>\n",
       "      <td>A</td>\n",
       "      <td>G</td>\n",
       "    </tr>\n",
       "    <tr>\n",
       "      <th>2</th>\n",
       "      <td>rs3131967</td>\n",
       "      <td>1</td>\n",
       "      <td>754334</td>\n",
       "      <td>0</td>\n",
       "      <td>T</td>\n",
       "      <td>C</td>\n",
       "    </tr>\n",
       "    <tr>\n",
       "      <th>3</th>\n",
       "      <td>rs1048488</td>\n",
       "      <td>1</td>\n",
       "      <td>760912</td>\n",
       "      <td>0</td>\n",
       "      <td>C</td>\n",
       "      <td>T</td>\n",
       "    </tr>\n",
       "    <tr>\n",
       "      <th>4</th>\n",
       "      <td>rs12562034</td>\n",
       "      <td>1</td>\n",
       "      <td>768448</td>\n",
       "      <td>0</td>\n",
       "      <td>A</td>\n",
       "      <td>G</td>\n",
       "    </tr>\n",
       "    <tr>\n",
       "      <th>...</th>\n",
       "      <td>...</td>\n",
       "      <td>...</td>\n",
       "      <td>...</td>\n",
       "      <td>...</td>\n",
       "      <td>...</td>\n",
       "      <td>...</td>\n",
       "    </tr>\n",
       "    <tr>\n",
       "      <th>132</th>\n",
       "      <td>rs35242196</td>\n",
       "      <td>1</td>\n",
       "      <td>1333598</td>\n",
       "      <td>0</td>\n",
       "      <td>A</td>\n",
       "      <td>C</td>\n",
       "    </tr>\n",
       "    <tr>\n",
       "      <th>133</th>\n",
       "      <td>rs2291889</td>\n",
       "      <td>1</td>\n",
       "      <td>1335218</td>\n",
       "      <td>0</td>\n",
       "      <td>A</td>\n",
       "      <td>G</td>\n",
       "    </tr>\n",
       "    <tr>\n",
       "      <th>134</th>\n",
       "      <td>rs1240707</td>\n",
       "      <td>1</td>\n",
       "      <td>1335302</td>\n",
       "      <td>0</td>\n",
       "      <td>T</td>\n",
       "      <td>C</td>\n",
       "    </tr>\n",
       "    <tr>\n",
       "      <th>135</th>\n",
       "      <td>rs17160975</td>\n",
       "      <td>1</td>\n",
       "      <td>1338596</td>\n",
       "      <td>0</td>\n",
       "      <td>T</td>\n",
       "      <td>G</td>\n",
       "    </tr>\n",
       "    <tr>\n",
       "      <th>136</th>\n",
       "      <td>rs17160977</td>\n",
       "      <td>1</td>\n",
       "      <td>1341185</td>\n",
       "      <td>0</td>\n",
       "      <td>G</td>\n",
       "      <td>A</td>\n",
       "    </tr>\n",
       "  </tbody>\n",
       "</table>\n",
       "<p>137 rows × 6 columns</p>\n",
       "</div>"
      ],
      "text/plain": [
       "            snp  chrom      pos  cm a1 a2\n",
       "0     rs3131972      1   752721   0  A  G\n",
       "1     rs3131969      1   754182   0  A  G\n",
       "2     rs3131967      1   754334   0  T  C\n",
       "3     rs1048488      1   760912   0  C  T\n",
       "4    rs12562034      1   768448   0  A  G\n",
       "..          ...    ...      ...  .. .. ..\n",
       "132  rs35242196      1  1333598   0  A  C\n",
       "133   rs2291889      1  1335218   0  A  G\n",
       "134   rs1240707      1  1335302   0  T  C\n",
       "135  rs17160975      1  1338596   0  T  G\n",
       "136  rs17160977      1  1341185   0  G  A\n",
       "\n",
       "[137 rows x 6 columns]"
      ]
     },
     "execution_count": 82,
     "metadata": {},
     "output_type": "execute_result"
    }
   ],
   "source": [
    "one_gene_result[\"snp_info\"]"
   ]
  },
  {
   "cell_type": "code",
   "execution_count": 89,
   "metadata": {},
   "outputs": [
    {
     "data": {
      "text/plain": [
       "array([1, 0, 1, 0, 0, 0, 0, 0, 0, 0, 0, 0, 0, 1, 0, 0, 0, 1, 0, 0, 0, 0,\n",
       "       0, 0, 0, 1, 0, 1, 1, 0, 0, 0, 1, 1, 1, 1, 1, 0, 0, 0, 1, 1, 0, 0,\n",
       "       0, 0, 1, 0, 1, 0, 0, 1, 0, 0, 0, 0, 0, 0, 1, 0, 0, 0, 0, 1, 0, 1,\n",
       "       1, 0, 0, 1, 1, 0, 0, 0, 0, 0, 2, 1, 1, 0, 0, 1, 0, 0, 0, 0, 0, 0,\n",
       "       0, 1, 0, 0, 0, 1, 1, 0, 0, 0, 0, 0, 0, 1, 1, 0, 0, 0, 0, 0, 0, 1,\n",
       "       1, 1, 1, 0, 1, 1, 1, 0, 0, 0, 0, 0, 1, 0, 1, 0, 1, 0, 1, 0, 0, 1,\n",
       "       2, 0, 0, 0, 0, 0, 0, 0, 0, 0, 0, 0, 0, 0, 0, 1, 1, 0, 0, 1, 1, 1,\n",
       "       0, 0, 1, 1, 2, 1, 0, 0, 0, 0, 1, 1, 0, 0, 0, 0, 0, 0, 1, 1, 0, 0,\n",
       "       1, 0, 0, 0, 1, 1, 0, 1, 0, 0, 1, 0, 0, 0, 0, 0, 1, 0, 0, 0, 1, 1,\n",
       "       0, 0, 1, 1, 0, 0, 1, 1, 0, 1, 0, 0, 0, 1, 1, 1, 0, 0, 0, 0, 0, 0,\n",
       "       0, 2, 1, 0, 0, 1, 0, 1, 0, 0, 0, 0, 0, 0, 2, 0, 1, 0, 0, 0, 0, 0,\n",
       "       1, 0, 2, 0, 0, 0, 0, 0, 0, 0, 0, 0, 0, 0, 1, 0, 0, 0, 0, 0, 0, 0,\n",
       "       1, 1, 0, 0, 1, 0, 0, 0, 0, 1, 0, 1, 1, 0, 0, 1, 0, 1, 0, 1, 0, 1,\n",
       "       0, 0, 0, 0, 0, 0, 2, 1, 0, 0, 0, 0, 0, 1, 0, 0, 1, 0, 1, 0, 1, 1,\n",
       "       0, 0, 0, 0, 1, 1, 0, 0, 0, 0, 0, 0, 1, 0, 0, 0, 0, 0, 0, 0, 0, 0,\n",
       "       0, 1, 0, 1, 0, 0, 0, 0, 0, 0, 0, 1, 0, 2, 0, 0, 0, 1, 1, 1, 0, 1,\n",
       "       0, 0, 0, 0, 1, 0, 0, 1, 0, 1, 0, 0, 1, 1, 0, 0, 1, 0, 0, 0, 1],\n",
       "      dtype=int8)"
      ]
     },
     "execution_count": 89,
     "metadata": {},
     "output_type": "execute_result"
    }
   ],
   "source": [
    "np.array(one_gene_result[\"rs3131972\"])"
   ]
  },
  {
   "cell_type": "code",
   "execution_count": 88,
   "metadata": {},
   "outputs": [
    {
     "data": {
      "text/plain": [
       "array([1, 0, 1, 0, 0, 0, 0, 0, 0, 0, 0, 0, 0, 1, 0, 0, 0, 1, 0, 0, 0, 0,\n",
       "       0, 0, 0, 1, 0, 1, 1, 0, 0, 0, 1, 1, 1, 1, 1, 0, 0, 0, 1, 1, 0, 0,\n",
       "       0, 0, 1, 0, 1, 0, 0, 1, 0, 0, 0, 0, 0, 0, 1, 0, 0, 0, 0, 1, 0, 1,\n",
       "       1, 0, 0, 1, 1, 0, 0, 0, 0, 0, 2, 1, 1, 0, 0, 1, 0, 0, 0, 0, 0, 0,\n",
       "       0, 1, 0, 0, 0, 1, 1, 0, 0, 0, 0, 0, 0, 1, 1, 0, 0, 0, 0, 0, 0, 1,\n",
       "       1, 1, 1, 0, 1, 1, 1, 0, 0, 0, 0, 0, 1, 0, 1, 0, 1, 0, 1, 0, 0, 1,\n",
       "       2, 0, 0, 0, 0, 0, 0, 0, 0, 0, 0, 0, 0, 0, 0, 1, 1, 0, 0, 1, 1, 1,\n",
       "       0, 0, 1, 1, 2, 1, 0, 0, 0, 0, 1, 1, 0, 0, 0, 0, 0, 0, 1, 1, 0, 0,\n",
       "       1, 0, 0, 0, 1, 1, 0, 1, 0, 0, 1, 0, 0, 0, 0, 0, 1, 0, 0, 0, 1, 1,\n",
       "       0, 0, 1, 1, 0, 0, 1, 1, 0, 1, 0, 0, 0, 1, 1, 1, 0, 0, 0, 0, 0, 0,\n",
       "       0, 2, 1, 0, 0, 1, 0, 1, 0, 0, 0, 0, 0, 0, 2, 0, 1, 0, 0, 0, 0, 0,\n",
       "       1, 0, 2, 0, 0, 0, 0, 0, 0, 0, 0, 0, 0, 0, 1, 0, 0, 0, 0, 0, 0, 0,\n",
       "       1, 1, 0, 0, 1, 0, 0, 0, 0, 1, 0, 1, 1, 0, 0, 1, 0, 1, 0, 1, 0, 1,\n",
       "       0, 0, 0, 0, 0, 0, 2, 1, 0, 0, 0, 0, 0, 1, 0, 0, 1, 0, 1, 0, 1, 1,\n",
       "       0, 0, 0, 0, 1, 1, 0, 0, 0, 0, 0, 0, 1, 0, 0, 0, 0, 0, 0, 0, 0, 0,\n",
       "       0, 1, 0, 1, 0, 0, 0, 0, 0, 0, 0, 1, 0, 2, 0, 0, 0, 1, 1, 1, 0, 1,\n",
       "       0, 0, 0, 0, 1, 0, 0, 1, 0, 1, 0, 0, 1, 1, 0, 0, 1, 0, 0, 0, 1],\n",
       "      dtype=int8)"
      ]
     },
     "execution_count": 88,
     "metadata": {},
     "output_type": "execute_result"
    }
   ],
   "source": [
    "np.array(one_gene_result[\"rs3131972_filtered\"])"
   ]
  },
  {
   "cell_type": "code",
   "execution_count": 65,
   "metadata": {},
   "outputs": [],
   "source": [
    "from sklearn import linear_model\n",
    "from sklearn.model_selection import train_test_split"
   ]
  },
  {
   "cell_type": "code",
   "execution_count": 66,
   "metadata": {},
   "outputs": [],
   "source": [
    "X_train, X_test, y_train, y_test = train_test_split(X, y, test_size=0.2, random_state=42)"
   ]
  },
  {
   "cell_type": "code",
   "execution_count": 80,
   "metadata": {},
   "outputs": [
    {
     "name": "stdout",
     "output_type": "stream",
     "text": [
      "0.0\n"
     ]
    }
   ],
   "source": [
    "lasso = linear_model.Lasso(alpha=0.1, max_iter=1000000)\n",
    "lasso.fit(X_train, y_train)\n",
    "print(lasso.score(X_train, y_train))"
   ]
  }
 ],
 "metadata": {
  "kernelspec": {
   "display_name": "Python 3 (ipykernel)",
   "language": "python",
   "name": "python3"
  },
  "language_info": {
   "codemirror_mode": {
    "name": "ipython",
    "version": 3
   },
   "file_extension": ".py",
   "mimetype": "text/x-python",
   "name": "python",
   "nbconvert_exporter": "python",
   "pygments_lexer": "ipython3",
   "version": "3.10.13"
  }
 },
 "nbformat": 4,
 "nbformat_minor": 2
}
