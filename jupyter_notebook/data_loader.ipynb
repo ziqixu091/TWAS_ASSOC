{
 "cells": [
  {
   "cell_type": "code",
   "execution_count": 1,
   "metadata": {},
   "outputs": [],
   "source": [
    "import pandas as pd\n",
    "import numpy as np\n",
    "\n",
    "import os\n",
    "import sys\n",
    "from typing import List, Tuple, Dict, Any, Optional\n",
    "import pickle\n",
    "\n",
    "os.chdir('/Users/xbh0403/Desktop/TWAS_ASSOC')\n",
    "\n",
    "from sklearn import linear_model\n",
    "from sklearn.preprocessing import StandardScaler\n",
    "from sklearn.model_selection import train_test_split\n",
    "\n",
    "from pyplink import PyPlink"
   ]
  },
  {
   "cell_type": "code",
   "execution_count": 2,
   "metadata": {},
   "outputs": [
    {
     "name": "stdout",
     "output_type": "stream",
     "text": [
      "Shapes of the dataframes: (373, 13942) (89, 13942) (13942, 5) (13942, 5)\n"
     ]
    }
   ],
   "source": [
    "def load_data():\n",
    "    EUR_ge_regressed = pd.read_csv(\"./project_data/GEUVADIS_EUR_ge_regressed.tsv.gz\", sep=\"\\t\", index_col=0, compression=\"gzip\")\n",
    "    YRI_ge_regressed = pd.read_csv(\"./project_data/GEUVADIS_YRI_ge_regressed.tsv.gz\", sep=\"\\t\", index_col=0, compression=\"gzip\")\n",
    "\n",
    "    EUR_protein_genes = pd.read_csv(\"./project_data/GEUVADIS_EUR_protein_genes.tsv.gz\", sep=\"\\t\", index_col=0, compression=\"gzip\")\n",
    "    EUR_protein_genes[\"chr\"] = EUR_protein_genes.index\n",
    "    EUR_protein_genes.reset_index(drop=True, inplace=True)\n",
    "    YRI_protein_genes = pd.read_csv(\"./project_data/GEUVADIS_YRI_protein_genes.tsv.gz\", sep=\"\\t\", index_col=0, compression=\"gzip\")\n",
    "    YRI_protein_genes[\"chr\"] = YRI_protein_genes.index\n",
    "    YRI_protein_genes.reset_index(drop=True, inplace=True)\n",
    "\n",
    "    print(\"Shapes of the dataframes:\", EUR_ge_regressed.shape, YRI_ge_regressed.shape, EUR_protein_genes.shape, YRI_protein_genes.shape)\n",
    "\n",
    "    return EUR_ge_regressed, YRI_ge_regressed, EUR_protein_genes, YRI_protein_genes\n",
    "\n",
    "EUR_ge_regressed, YRI_ge_regressed, EUR_protein_genes, YRI_protein_genes = load_data()"
   ]
  },
  {
   "cell_type": "code",
   "execution_count": 7,
   "metadata": {},
   "outputs": [],
   "source": [
    "def find_snps_in_gene(chr_num: int, start: int, end: int, ancsetry: str) -> pd.DataFrame:\n",
    "    \"\"\"\n",
    "    Find SNPs within a specified genomic region.\n",
    "\n",
    "    Parameters:\n",
    "    chr_num (int): Chromosome number.\n",
    "    start (int): Start position of the genomic region.\n",
    "    end (int): End position of the genomic region.\n",
    "    bim (pd.DataFrame): DataFrame containing SNP information.\n",
    "\n",
    "    Returns:\n",
    "    pd.DataFrame: DataFrame containing SNPs within the specified genomic region.\n",
    "    \n",
    "    \"\"\"\n",
    "    with PyPlink(\"./project_data/geno/\"+ancsetry+\"/GEUVADIS_\"+ancsetry+\"_chr\"+str(chr_num)) as bed:\n",
    "        # Getting the BIM and FAM\n",
    "        bim = bed.get_bim()\n",
    "        bim[\"snp\"] = bim.index\n",
    "        bim.reset_index(drop=True, inplace=True)\n",
    "        bim = bim[[\"snp\", \"chrom\", \"pos\", \"cm\", \"a1\", \"a2\"]]\n",
    "    return bim[(bim[\"pos\"] >= start) & (bim[\"pos\"] <= end)]"
   ]
  },
  {
   "cell_type": "code",
   "execution_count": 8,
   "metadata": {},
   "outputs": [],
   "source": [
    "def process_geno(ancsetry: str, chr_num: int, snps: List[str], start: int, gene_id: str, save_result: bool = False) -> np.ndarray:\n",
    "    \"\"\"\n",
    "    Process the genotype data.\n",
    "\n",
    "    Parameters:\n",
    "    ancsetry (str): Ancestry of the individual.\n",
    "    chr_num (int): Chromosome number.\n",
    "    individual (str | None): Individual ID.\n",
    "    snps (List[str]): List of SNPs.\n",
    "\n",
    "    Returns:\n",
    "    pd.DataFrame: Processed genotype data.\n",
    "    \"\"\"\n",
    "    if len(snps) == 0:\n",
    "        raise ValueError(\"No SNPs provided.\")\n",
    "    \n",
    "    with PyPlink(\"./project_data/geno/\"+ancsetry+\"/GEUVADIS_\"+ancsetry+\"_chr\"+str(chr_num)) as bed:\n",
    "        # Getting the BIM and FAM\n",
    "        bim = bed.get_bim()\n",
    "        bim[\"snp\"] = bim.index\n",
    "        bim.reset_index(drop=True, inplace=True)\n",
    "        bim = bim[[\"snp\", \"chrom\", \"pos\", \"cm\", \"a1\", \"a2\"]]\n",
    "        snp_info = bim[bim[\"snp\"].isin(snps)]\n",
    "\n",
    "        fam = bed.get_fam()\n",
    "        iids = fam[\"iid\"].tolist()\n",
    "\n",
    "        results = {\n",
    "            \"snp_info\": snp_info,\n",
    "            \"iids\": iids,\n",
    "        }\n",
    "\n",
    "        keep_bool = [1] * len(iids)\n",
    "\n",
    "        for snp_id, genotypes in bed.iter_geno_marker(snps):\n",
    "            results[snp_id] = genotypes\n",
    "            genotypes_kept = [0 if x == -1 else 1 for x in genotypes]\n",
    "            keep_bool = [x*y for x, y in zip(keep_bool, genotypes_kept)]\n",
    "\n",
    "        results[\"keep_bool\"] = keep_bool\n",
    "\n",
    "        for snp_id, genotypes in bed.iter_geno_marker(snps):\n",
    "            results[snp_id+\"_filtered\"] = [x for x, y in zip(genotypes, keep_bool) if y == 1]\n",
    "        \n",
    "        results[\"iids_filtered\"] = [x for x, y in zip(iids, keep_bool) if y == 1]\n",
    "\n",
    "        X = np.zeros((len(results[\"iids_filtered\"]), snp_info.shape[0]))\n",
    "\n",
    "        for i in range(snp_info.shape[0]):\n",
    "            X[:, i] = results[snps[i]+\"_filtered\"]\n",
    "\n",
    "        if save_result:\n",
    "            with open(\"./project_data/processed_Xy/\"+gene_id+\"_results.pkl\", \"wb\") as f:\n",
    "                pickle.dump(results, f)\n",
    "            # save x as npy\n",
    "            np.save(\"./project_data/processed_Xy/X/\"+gene_id+\"_X.npy\", X)\n",
    "\n",
    "        return results, X"
   ]
  },
  {
   "cell_type": "code",
   "execution_count": 9,
   "metadata": {},
   "outputs": [],
   "source": [
    "def get_y(gene_id: str, iids: List[str], y_full_df: pd.DataFrame = EUR_ge_regressed, save_y: bool = False) -> np.ndarray:\n",
    "    \"\"\"\n",
    "    Get the Y values for a specific gene and ancestry.\n",
    "\n",
    "    Parameters:\n",
    "    gene_id (str): Gene ID.\n",
    "    iids (List[str]): List of individual IDs.\n",
    "    y_full_df (pd.DataFrame): DataFrame containing the Y values.\n",
    "\n",
    "    Returns:\n",
    "    np.ndarray: Array of Y values for the specified gene and ancestry.\n",
    "    \"\"\"\n",
    "    all_columns = y_full_df.columns\n",
    "    id_gene = all_columns.get_loc(gene_id)\n",
    "    all_individuals = y_full_df.index\n",
    "    iids_keep = [True if x in iids else False for x in all_individuals]\n",
    "    y = y_full_df.iloc[iids_keep, id_gene].values\n",
    "    if save_y:\n",
    "        np.save(\"./project_data/processed_Xy/y/\"+gene_id+\"_y.npy\", y)\n",
    "    return y"
   ]
  },
  {
   "cell_type": "code",
   "execution_count": 10,
   "metadata": {},
   "outputs": [],
   "source": [
    "def process_one_gene(gene_id: str, protein_genes: pd.DataFrame, ancsetry: str) -> np.ndarray:\n",
    "    gene = protein_genes[protein_genes[\"gene_id\"] == gene_id]\n",
    "    assert gene.shape[0] == 1\n",
    "    chr_num = gene[\"chr\"].values[0]\n",
    "    start = gene[\"start\"].values[0]\n",
    "    end = gene[\"end\"].values[0]\n",
    "    gene_name = gene[\"name\"].values[0]\n",
    "    print(\"Gene id: \", gene_id, \" Gene name: \", gene_name, \" Chr: \", chr_num, \" Start: \", start, \" End: \", end)\n",
    "    \n",
    "    snps = find_snps_in_gene(chr_num, start, end, ancsetry)\n",
    "    snps_name = snps[\"snp\"].tolist()\n",
    "    print(\"Number of SNPs: \", len(snps_name))\n",
    "    processed_geno, X = process_geno(ancsetry, chr_num, snps_name, start, gene_id, save_result=True)\n",
    "    y = get_y(gene_id, processed_geno[\"iids_filtered\"], save_y=True)\n",
    "    return processed_geno, X, y"
   ]
  },
  {
   "cell_type": "code",
   "execution_count": 88,
   "metadata": {},
   "outputs": [
    {
     "data": {
      "text/html": [
       "<div>\n",
       "<style scoped>\n",
       "    .dataframe tbody tr th:only-of-type {\n",
       "        vertical-align: middle;\n",
       "    }\n",
       "\n",
       "    .dataframe tbody tr th {\n",
       "        vertical-align: top;\n",
       "    }\n",
       "\n",
       "    .dataframe thead th {\n",
       "        text-align: right;\n",
       "    }\n",
       "</style>\n",
       "<table border=\"1\" class=\"dataframe\">\n",
       "  <thead>\n",
       "    <tr style=\"text-align: right;\">\n",
       "      <th></th>\n",
       "      <th>start</th>\n",
       "      <th>end</th>\n",
       "      <th>gene_id</th>\n",
       "      <th>name</th>\n",
       "      <th>chr</th>\n",
       "    </tr>\n",
       "  </thead>\n",
       "  <tbody>\n",
       "    <tr>\n",
       "      <th>47</th>\n",
       "      <td>1898898</td>\n",
       "      <td>2898899</td>\n",
       "      <td>ENSG00000149527</td>\n",
       "      <td>PLCH2</td>\n",
       "      <td>1</td>\n",
       "    </tr>\n",
       "  </tbody>\n",
       "</table>\n",
       "</div>"
      ],
      "text/plain": [
       "      start      end          gene_id   name  chr\n",
       "47  1898898  2898899  ENSG00000149527  PLCH2    1"
      ]
     },
     "execution_count": 88,
     "metadata": {},
     "output_type": "execute_result"
    }
   ],
   "source": [
    "EUR_protein_genes[EUR_protein_genes[\"gene_id\"] == \"ENSG00000149527\"]"
   ]
  },
  {
   "cell_type": "code",
   "execution_count": 89,
   "metadata": {},
   "outputs": [
    {
     "name": "stdout",
     "output_type": "stream",
     "text": [
      "Gene id:  ENSG00000149527  Gene name:  PLCH2  Chr:  1  Start:  1898898  End:  2898899\n",
      "Number of SNPs:  308\n"
     ]
    }
   ],
   "source": [
    "# one_gene_result, X, y = process_one_gene(\"ENSG00000187634\", EUR_protein_genes, \"EUR\")\n",
    "# one_gene_result, X, y = process_one_gene(\"ENSG00000187642\", EUR_protein_genes, \"EUR\")\n",
    "# one_gene_result, X, y = process_one_gene(\"ENSG00000187583\", EUR_protein_genes, \"EUR\")\n",
    "# one_gene_result, X, y = process_one_gene(\"ENSG00000187961\", EUR_protein_genes, \"EUR\")\n",
    "# one_gene_result, X, y = process_one_gene(\"ENSG00000144182\", EUR_protein_genes, \"EUR\")\n",
    "one_gene_result, X, y = process_one_gene(\"ENSG00000149527\", EUR_protein_genes, \"EUR\")"
   ]
  },
  {
   "cell_type": "code",
   "execution_count": 84,
   "metadata": {},
   "outputs": [],
   "source": [
    "def standardize(X: np.ndarray) -> np.ndarray:\n",
    "    \"\"\"\n",
    "    Standardize the X matrix.\n",
    "\n",
    "    Parameters:\n",
    "    X (np.ndarray): X matrix.\n",
    "\n",
    "    Returns:\n",
    "    np.ndarray: Standardized X matrix.\n",
    "    \"\"\"\n",
    "    mean = np.mean(X, axis=0)\n",
    "    std = np.std(X, axis=0)\n",
    "    X = (X - mean) / std\n",
    "    return X"
   ]
  },
  {
   "cell_type": "code",
   "execution_count": 90,
   "metadata": {},
   "outputs": [],
   "source": [
    "X_std = standardize(X)\n",
    "X_train, X_test, y_train, y_test = train_test_split(X_std, y, test_size=0.2, random_state=42)"
   ]
  },
  {
   "cell_type": "code",
   "execution_count": 65,
   "metadata": {},
   "outputs": [
    {
     "name": "stdout",
     "output_type": "stream",
     "text": [
      "Mean squared error:  0.49684419824945875\n",
      "Mean squared error:  2.120728898847237e+21\n"
     ]
    }
   ],
   "source": [
    "# Linear regression\n",
    "reg = linear_model.LinearRegression()\n",
    "reg.fit(X_train, y_train)\n",
    "y_pred = reg.predict(X_test)\n",
    "y_pred_train = reg.predict(X_train)\n",
    "print(\"Mean squared error: \", np.mean((y_train - y_pred_train)**2))\n",
    "print(\"Mean squared error: \", np.mean((y_pred - y_test)**2))"
   ]
  },
  {
   "cell_type": "code",
   "execution_count": 91,
   "metadata": {},
   "outputs": [
    {
     "name": "stdout",
     "output_type": "stream",
     "text": [
      "0.0686520596838337\n",
      "-0.026052811985385338\n"
     ]
    }
   ],
   "source": [
    "lasso = linear_model.Lasso(alpha=0.1, max_iter=1000000)\n",
    "lasso.fit(X_train, y_train)\n",
    "print(lasso.score(X_train, y_train))\n",
    "print(lasso.score(X_test, y_test))"
   ]
  }
 ],
 "metadata": {
  "kernelspec": {
   "display_name": "Python 3 (ipykernel)",
   "language": "python",
   "name": "python3"
  },
  "language_info": {
   "codemirror_mode": {
    "name": "ipython",
    "version": 3
   },
   "file_extension": ".py",
   "mimetype": "text/x-python",
   "name": "python",
   "nbconvert_exporter": "python",
   "pygments_lexer": "ipython3",
   "version": "3.10.13"
  }
 },
 "nbformat": 4,
 "nbformat_minor": 2
}
