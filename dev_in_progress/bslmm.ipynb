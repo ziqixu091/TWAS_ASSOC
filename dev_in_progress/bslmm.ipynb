{
 "cells": [
  {
   "cell_type": "code",
   "execution_count": 1,
   "metadata": {},
   "outputs": [],
   "source": [
    "import subprocess\n",
    "import pandas as pd\n",
    "import numpy as np\n",
    "import random\n",
    "from helper_fns import *\n",
    "\n",
    "random.seed(42)"
   ]
  },
  {
   "cell_type": "code",
   "execution_count": 2,
   "metadata": {},
   "outputs": [
    {
     "name": "stdout",
     "output_type": "stream",
     "text": [
      "Shapes of the dataframes: (373, 13942) (89, 13942) (13942, 5) (13942, 5)\n"
     ]
    }
   ],
   "source": [
    "EUR_ge_regressed, YRI_ge_regressed, EUR_protein_genes, YRI_protein_genes = load_data()"
   ]
  },
  {
   "cell_type": "code",
   "execution_count": 5,
   "metadata": {},
   "outputs": [
    {
     "data": {
      "text/html": [
       "<div>\n",
       "<style scoped>\n",
       "    .dataframe tbody tr th:only-of-type {\n",
       "        vertical-align: middle;\n",
       "    }\n",
       "\n",
       "    .dataframe tbody tr th {\n",
       "        vertical-align: top;\n",
       "    }\n",
       "\n",
       "    .dataframe thead th {\n",
       "        text-align: right;\n",
       "    }\n",
       "</style>\n",
       "<table border=\"1\" class=\"dataframe\">\n",
       "  <thead>\n",
       "    <tr style=\"text-align: right;\">\n",
       "      <th></th>\n",
       "      <th>start</th>\n",
       "      <th>end</th>\n",
       "      <th>gene_id</th>\n",
       "      <th>name</th>\n",
       "      <th>chr</th>\n",
       "    </tr>\n",
       "  </thead>\n",
       "  <tbody>\n",
       "    <tr>\n",
       "      <th>0</th>\n",
       "      <td>360260</td>\n",
       "      <td>1360261</td>\n",
       "      <td>ENSG00000187634</td>\n",
       "      <td>SAMD11</td>\n",
       "      <td>1</td>\n",
       "    </tr>\n",
       "    <tr>\n",
       "      <th>1</th>\n",
       "      <td>379584</td>\n",
       "      <td>1379585</td>\n",
       "      <td>ENSG00000188976</td>\n",
       "      <td>NOC2L</td>\n",
       "      <td>1</td>\n",
       "    </tr>\n",
       "    <tr>\n",
       "      <th>2</th>\n",
       "      <td>395967</td>\n",
       "      <td>1395968</td>\n",
       "      <td>ENSG00000187961</td>\n",
       "      <td>KLHL17</td>\n",
       "      <td>1</td>\n",
       "    </tr>\n",
       "    <tr>\n",
       "      <th>3</th>\n",
       "      <td>401877</td>\n",
       "      <td>1401878</td>\n",
       "      <td>ENSG00000187583</td>\n",
       "      <td>PLEKHN1</td>\n",
       "      <td>1</td>\n",
       "    </tr>\n",
       "    <tr>\n",
       "      <th>4</th>\n",
       "      <td>410579</td>\n",
       "      <td>1410580</td>\n",
       "      <td>ENSG00000187642</td>\n",
       "      <td>PERM1</td>\n",
       "      <td>1</td>\n",
       "    </tr>\n",
       "    <tr>\n",
       "      <th>...</th>\n",
       "      <td>...</td>\n",
       "      <td>...</td>\n",
       "      <td>...</td>\n",
       "      <td>...</td>\n",
       "      <td>...</td>\n",
       "    </tr>\n",
       "    <tr>\n",
       "      <th>13937</th>\n",
       "      <td>139949356</td>\n",
       "      <td>140949357</td>\n",
       "      <td>ENSG00000148399</td>\n",
       "      <td>DPH7</td>\n",
       "      <td>9</td>\n",
       "    </tr>\n",
       "    <tr>\n",
       "      <th>13938</th>\n",
       "      <td>139976531</td>\n",
       "      <td>140976532</td>\n",
       "      <td>ENSG00000165724</td>\n",
       "      <td>ZMYND19</td>\n",
       "      <td>9</td>\n",
       "    </tr>\n",
       "    <tr>\n",
       "      <th>13939</th>\n",
       "      <td>140000106</td>\n",
       "      <td>141000107</td>\n",
       "      <td>ENSG00000197070</td>\n",
       "      <td>ARRDC1</td>\n",
       "      <td>9</td>\n",
       "    </tr>\n",
       "    <tr>\n",
       "      <th>13940</th>\n",
       "      <td>140013444</td>\n",
       "      <td>141013445</td>\n",
       "      <td>ENSG00000181090</td>\n",
       "      <td>EHMT1</td>\n",
       "      <td>9</td>\n",
       "    </tr>\n",
       "    <tr>\n",
       "      <th>13941</th>\n",
       "      <td>140272241</td>\n",
       "      <td>141272242</td>\n",
       "      <td>ENSG00000148408</td>\n",
       "      <td>CACNA1B</td>\n",
       "      <td>9</td>\n",
       "    </tr>\n",
       "  </tbody>\n",
       "</table>\n",
       "<p>13942 rows × 5 columns</p>\n",
       "</div>"
      ],
      "text/plain": [
       "           start        end          gene_id     name  chr\n",
       "0         360260    1360261  ENSG00000187634   SAMD11    1\n",
       "1         379584    1379585  ENSG00000188976    NOC2L    1\n",
       "2         395967    1395968  ENSG00000187961   KLHL17    1\n",
       "3         401877    1401878  ENSG00000187583  PLEKHN1    1\n",
       "4         410579    1410580  ENSG00000187642    PERM1    1\n",
       "...          ...        ...              ...      ...  ...\n",
       "13937  139949356  140949357  ENSG00000148399     DPH7    9\n",
       "13938  139976531  140976532  ENSG00000165724  ZMYND19    9\n",
       "13939  140000106  141000107  ENSG00000197070   ARRDC1    9\n",
       "13940  140013444  141013445  ENSG00000181090    EHMT1    9\n",
       "13941  140272241  141272242  ENSG00000148408  CACNA1B    9\n",
       "\n",
       "[13942 rows x 5 columns]"
      ]
     },
     "execution_count": 5,
     "metadata": {},
     "output_type": "execute_result"
    }
   ],
   "source": [
    "EUR_protein_genes"
   ]
  },
  {
   "cell_type": "code",
   "execution_count": 6,
   "metadata": {},
   "outputs": [],
   "source": [
    "# Function to extract SNPs for a gene and split into train/test\n",
    "def process_gene(gene, chr, start, end, plink_path='plink'):\n",
    "    base_name = f'{gene}_chr{chr}_{start}_{end}'\n",
    "    # Step 2: Extract gene-specific SNPs\n",
    "    subprocess.run([plink_path, '--bfile', f'chr{chr}', '--chr', str(chr), \n",
    "                    '--from-bp', str(start), '--to-bp', str(end), \n",
    "                    '--make-bed', '--out', base_name])\n",
    "    \n",
    "    # Count the number of individuals\n",
    "    with open(f'{base_name}.fam') as f:\n",
    "        num_individuals = sum(1 for line in f)\n",
    "    \n",
    "    # Calculate split\n",
    "    train_num = int(num_individuals * 0.8)\n",
    "    \n",
    "    # Shuffle individuals\n",
    "    individuals = pd.read_csv(f'{base_name}.fam', sep='\\s+', header=None)\n",
    "    shuffled = individuals.sample(frac=1).reset_index(drop=True)\n",
    "    \n",
    "    # Split into train/test\n",
    "    train = shuffled.head(train_num)\n",
    "    test = shuffled.tail(num_individuals - train_num)\n",
    "    \n",
    "    train[[0, 1]].to_csv(f'{base_name}_train.txt', sep=' ', index=False, header=False)\n",
    "    test[[0, 1]].to_csv(f'{base_name}_test.txt', sep=' ', index=False, header=False)\n",
    "    \n",
    "    # Generate train/test datasets\n",
    "    subprocess.run([plink_path, '--bfile', base_name, '--keep', f'{base_name}_train.txt', \n",
    "                    '--make-bed', '--out', f'{base_name}_train'])\n",
    "    subprocess.run([plink_path, '--bfile', base_name, '--keep', f'{base_name}_test.txt', \n",
    "                    '--make-bed', '--out', f'{base_name}_test'])"
   ]
  },
  {
   "cell_type": "code",
   "execution_count": 7,
   "metadata": {},
   "outputs": [],
   "source": [
    "os.chdir(\"/Users/xbh0403/Desktop/TWAS_ASSOC/project_data/geno_gene_specific/\")"
   ]
  },
  {
   "cell_type": "code",
   "execution_count": null,
   "metadata": {},
   "outputs": [],
   "source": [
    "process_gene('ENSG00000187634', 1, 360260, 1360261)"
   ]
  }
 ],
 "metadata": {
  "kernelspec": {
   "display_name": "CSE_284",
   "language": "python",
   "name": "python3"
  },
  "language_info": {
   "codemirror_mode": {
    "name": "ipython",
    "version": 3
   },
   "file_extension": ".py",
   "mimetype": "text/x-python",
   "name": "python",
   "nbconvert_exporter": "python",
   "pygments_lexer": "ipython3",
   "version": "3.10.13"
  }
 },
 "nbformat": 4,
 "nbformat_minor": 2
}
