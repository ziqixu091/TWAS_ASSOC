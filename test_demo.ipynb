{
 "cells": [
  {
   "cell_type": "code",
   "execution_count": 7,
   "metadata": {},
   "outputs": [],
   "source": [
    "from helper_fns import *"
   ]
  },
  {
   "cell_type": "code",
   "execution_count": 2,
   "metadata": {},
   "outputs": [],
   "source": [
    "ge_regressed, genes_chr1 = load_custom_data()"
   ]
  },
  {
   "cell_type": "code",
   "execution_count": 4,
   "metadata": {},
   "outputs": [
    {
     "data": {
      "text/html": [
       "<div>\n",
       "<style scoped>\n",
       "    .dataframe tbody tr th:only-of-type {\n",
       "        vertical-align: middle;\n",
       "    }\n",
       "\n",
       "    .dataframe tbody tr th {\n",
       "        vertical-align: top;\n",
       "    }\n",
       "\n",
       "    .dataframe thead th {\n",
       "        text-align: right;\n",
       "    }\n",
       "</style>\n",
       "<table border=\"1\" class=\"dataframe\">\n",
       "  <thead>\n",
       "    <tr style=\"text-align: right;\">\n",
       "      <th></th>\n",
       "      <th>start</th>\n",
       "      <th>end</th>\n",
       "      <th>gene_id</th>\n",
       "      <th>name</th>\n",
       "      <th>chr</th>\n",
       "    </tr>\n",
       "  </thead>\n",
       "  <tbody>\n",
       "    <tr>\n",
       "      <th>0</th>\n",
       "      <td>360260</td>\n",
       "      <td>1360261</td>\n",
       "      <td>ENSG00000187634</td>\n",
       "      <td>SAMD11</td>\n",
       "      <td>1</td>\n",
       "    </tr>\n",
       "    <tr>\n",
       "      <th>1</th>\n",
       "      <td>379584</td>\n",
       "      <td>1379585</td>\n",
       "      <td>ENSG00000188976</td>\n",
       "      <td>NOC2L</td>\n",
       "      <td>1</td>\n",
       "    </tr>\n",
       "    <tr>\n",
       "      <th>2</th>\n",
       "      <td>395967</td>\n",
       "      <td>1395968</td>\n",
       "      <td>ENSG00000187961</td>\n",
       "      <td>KLHL17</td>\n",
       "      <td>1</td>\n",
       "    </tr>\n",
       "    <tr>\n",
       "      <th>3</th>\n",
       "      <td>401877</td>\n",
       "      <td>1401878</td>\n",
       "      <td>ENSG00000187583</td>\n",
       "      <td>PLEKHN1</td>\n",
       "      <td>1</td>\n",
       "    </tr>\n",
       "    <tr>\n",
       "      <th>4</th>\n",
       "      <td>410579</td>\n",
       "      <td>1410580</td>\n",
       "      <td>ENSG00000187642</td>\n",
       "      <td>PERM1</td>\n",
       "      <td>1</td>\n",
       "    </tr>\n",
       "    <tr>\n",
       "      <th>...</th>\n",
       "      <td>...</td>\n",
       "      <td>...</td>\n",
       "      <td>...</td>\n",
       "      <td>...</td>\n",
       "      <td>...</td>\n",
       "    </tr>\n",
       "    <tr>\n",
       "      <th>1489</th>\n",
       "      <td>248344628</td>\n",
       "      <td>249344629</td>\n",
       "      <td>ENSG00000189181</td>\n",
       "      <td>OR14I1</td>\n",
       "      <td>1</td>\n",
       "    </tr>\n",
       "    <tr>\n",
       "      <th>1490</th>\n",
       "      <td>248604648</td>\n",
       "      <td>249604649</td>\n",
       "      <td>ENSG00000175137</td>\n",
       "      <td>SH3BP5L</td>\n",
       "      <td>1</td>\n",
       "    </tr>\n",
       "    <tr>\n",
       "      <th>1491</th>\n",
       "      <td>248632409</td>\n",
       "      <td>249632410</td>\n",
       "      <td>ENSG00000171161</td>\n",
       "      <td>ZNF672</td>\n",
       "      <td>1</td>\n",
       "    </tr>\n",
       "    <tr>\n",
       "      <th>1492</th>\n",
       "      <td>248644205</td>\n",
       "      <td>249644206</td>\n",
       "      <td>ENSG00000171163</td>\n",
       "      <td>ZNF692</td>\n",
       "      <td>1</td>\n",
       "    </tr>\n",
       "    <tr>\n",
       "      <th>1493</th>\n",
       "      <td>248700395</td>\n",
       "      <td>249700396</td>\n",
       "      <td>ENSG00000185220</td>\n",
       "      <td>PGBD2</td>\n",
       "      <td>1</td>\n",
       "    </tr>\n",
       "  </tbody>\n",
       "</table>\n",
       "<p>1494 rows × 5 columns</p>\n",
       "</div>"
      ],
      "text/plain": [
       "          start        end          gene_id     name  chr\n",
       "0        360260    1360261  ENSG00000187634   SAMD11    1\n",
       "1        379584    1379585  ENSG00000188976    NOC2L    1\n",
       "2        395967    1395968  ENSG00000187961   KLHL17    1\n",
       "3        401877    1401878  ENSG00000187583  PLEKHN1    1\n",
       "4        410579    1410580  ENSG00000187642    PERM1    1\n",
       "...         ...        ...              ...      ...  ...\n",
       "1489  248344628  249344629  ENSG00000189181   OR14I1    1\n",
       "1490  248604648  249604649  ENSG00000175137  SH3BP5L    1\n",
       "1491  248632409  249632410  ENSG00000171161   ZNF672    1\n",
       "1492  248644205  249644206  ENSG00000171163   ZNF692    1\n",
       "1493  248700395  249700396  ENSG00000185220    PGBD2    1\n",
       "\n",
       "[1494 rows x 5 columns]"
      ]
     },
     "execution_count": 4,
     "metadata": {},
     "output_type": "execute_result"
    }
   ],
   "source": [
    "genes_chr1"
   ]
  },
  {
   "cell_type": "code",
   "execution_count": 8,
   "metadata": {},
   "outputs": [],
   "source": [
    "import json\n",
    "from helper_fns import *\n",
    "\n",
    "config_json = {\n",
    "    \"bfile_path\": \"./project_data/geno/YRI/GEUVADIS_YRI_chr1\",\n",
    "    \"protein_gene_path\": \"./project_data/GEUVADIS_YRI_protein_genes.tsv.gz\",\n",
    "    \"gene_exp_regressed_path\": \"./project_data/GEUVADIS_YRI_ge_regressed.tsv.gz\",\n",
    "    \"model\": [\"ElasticNet\", \"Lasso\", \"Ridge\", \"Marginal\"],\n",
    "    \"ancestry\": \"YRI\",\n",
    "    \"num_genes\": 100,\n",
    "    \"save_model\": True,\n",
    "}\n",
    "with open(\"config.json\", \"w\") as f:\n",
    "    json.dump(config_json, f)"
   ]
  },
  {
   "cell_type": "code",
   "execution_count": 5,
   "metadata": {},
   "outputs": [],
   "source": [
    "with open(\"config.json\", \"r\") as f:\n",
    "    config = json.load(f)\n",
    "\n",
    "bfile_path = config[\"bfile_path\"]\n",
    "gene_exp_regressed_path = config[\"gene_exp_regressed_path\"]\n",
    "protein_gene_path = config[\"protein_gene_path\"]\n",
    "model = config[\"model\"]\n",
    "ancestry = config[\"ancestry\"]\n",
    "num_genes = config[\"num_genes\"]\n",
    "save_model = config[\"save_model\"]\n",
    "# plink_path = config[\"plink_path\"]\n",
    "# gemma_path = config[\"gemma_path\"]\n",
    "\n",
    "ge_regressed_chr, protein_genes_chr = load_custom_data(protein_gene_path=protein_gene_path,\n",
    "                                                        ge_regressed_path=gene_exp_regressed_path,\n",
    "                                                        chr_num=1, num_genes=num_genes)"
   ]
  },
  {
   "cell_type": "code",
   "execution_count": 6,
   "metadata": {},
   "outputs": [
    {
     "name": "stdout",
     "output_type": "stream",
     "text": [
      "Running ElasticNet on 100 genes and 89 samples\n"
     ]
    },
    {
     "name": "stderr",
     "output_type": "stream",
     "text": [
      "100%|██████████| 100/100 [00:40<00:00,  2.47it/s]\n"
     ]
    }
   ],
   "source": [
    "from ElasticNet import ElasticNet_all_genes\n",
    "if \"ElasticNet\" in model:\n",
    "    print(\"Running ElasticNet on {} genes and {} samples\".format(protein_genes_chr.shape[0], ge_regressed_chr.shape[0]))\n",
    "    results = ElasticNet_all_genes(protein_genes_chr, ge_regressed_chr, ancestry, bfile=bfile_path)\n",
    "    \n",
    "    # save_results(results, ancestry, model)"
   ]
  }
 ],
 "metadata": {
  "kernelspec": {
   "display_name": "CSE_284",
   "language": "python",
   "name": "python3"
  },
  "language_info": {
   "codemirror_mode": {
    "name": "ipython",
    "version": 3
   },
   "file_extension": ".py",
   "mimetype": "text/x-python",
   "name": "python",
   "nbconvert_exporter": "python",
   "pygments_lexer": "ipython3",
   "version": "3.10.13"
  }
 },
 "nbformat": 4,
 "nbformat_minor": 2
}
